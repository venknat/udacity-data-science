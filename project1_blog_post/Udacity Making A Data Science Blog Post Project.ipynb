{
 "cells": [
  {
   "cell_type": "markdown",
   "metadata": {},
   "source": [
    "# Exploring AirBnb Data\n",
    "\n",
    "This project involves an exploration of the AirBnB data from Seattle and Boston metro areas.\n",
    "\n",
    "### To run this notebook\n",
    "\n",
    "First, go to the pages for each data package [(here for Seattle)](https://www.kaggle.com/airbnb/seattle/data#)\n",
    "and [(here for Boston)](https://www.kaggle.com/airbnb/seattle/data#), and click the \"Download\" link (the one\n",
    "next to the \"New Notebook\" link at the top of the page.  This will download a zip file.\n",
    "\n",
    "Place the Boston zip file in `data/boston/` within the same directory as this notebook, and the Seattle\n",
    "zip file in `data/seattle` within the same directory as this notebook.  Unzip each file.  In the end,\n",
    "each of the `data/seattle` and `data/boston` directories should have three `.csv` files: `listings.csv`, `calendar.csv`,\n",
    "and `reviews.csv`\n",
    "\n",
    "## Business Understanding\n",
    "\n",
    "The goal of this project is to gain some insight into some stuff about AirBnB housing prices.  To that end,\n",
    "there are three questions we will explore here\n",
    "\n",
    "1. What are the most important aspects of insuring a high review score?\n",
    "2. What are the most important predictors of a more expensive listing?\n",
    "3. What are the most expensive times of the year to rent on AirBnb?  Does this differ based on whether the\n",
    "listing is in Seattle or Boston?\n",
    "\n",
    "## Data Understanding\n",
    "\n",
    "This data consists of AirBnB housing data from Seattle and Boston, as obtained from Kaggle [(here for Seattle)](https://www.kaggle.com/airbnb/seattle/data#)\n",
    "and [(here for Boston)](https://www.kaggle.com/airbnb/seattle/data#).\n",
    "\n",
    "### Data Description\n",
    "\n",
    "Each city's file package consists of three files: `listings.csv`, `calendar.csv`, and `reviews.csv`.\n",
    "\n",
    "`listings.csv` consists of data intrinsic to each property listed on AirBnb -- features like how many beds or baths it\n",
    "has, etc.\n",
    "\n",
    "`calendar.csv` contains data on a per-listing, per-date basis, regarding whether it was available on such a date and,\n",
    "if so, how much it cost.\n",
    "\n",
    "`reviews.csv` consists of reviews of listings.  There is one row per review, and each row contains information on\n",
    "the reviewer, what the review said, and what listing the review was about.  Importantly, there is no explicit\n",
    "information given about whether the review rated the listing as \"good\" or bad -- that is, there is no \"star rating\" or\n",
    "other common ranking value given.  However, note that aggregrated scores of this value are available in `listings.csv`\n",
    "\n",
    "\n",
    "We will now dive more deeply into each file.\n",
    "\n",
    "### `listings.csv`\n",
    "\n",
    "Let's start by loading in the data."
   ]
  },
  {
   "cell_type": "code",
   "execution_count": 53,
   "metadata": {},
   "outputs": [],
   "source": [
    "import pandas as pd\n",
    "import numpy as np\n",
    "import seaborn as sns\n",
    "import matplotlib.pyplot as plt\n",
    "from sklearn.model_selection import train_test_split\n",
    "from sklearn.linear_model import Ridge\n",
    "from sklearn.metrics import r2_score\n",
    "\n",
    "boston_listings_data = pd.read_csv(\"data/boston/listings.csv\")\n",
    "seattle_listings_data = pd.read_csv(\"data/seattle/listings.csv\")\n",
    "listings_data = pd.concat((boston_listings_data, seattle_listings_data), axis=0)"
   ]
  },
  {
   "cell_type": "markdown",
   "source": [
    "The data looks like"
   ],
   "metadata": {
    "collapsed": false,
    "pycharm": {
     "name": "#%% md\n"
    }
   }
  },
  {
   "cell_type": "code",
   "execution_count": 54,
   "outputs": [
    {
     "data": {
      "text/plain": "         id                            listing_url       scrape_id  \\\n0  12147973  https://www.airbnb.com/rooms/12147973  20160906204935   \n1   3075044   https://www.airbnb.com/rooms/3075044  20160906204935   \n2      6976      https://www.airbnb.com/rooms/6976  20160906204935   \n3   1436513   https://www.airbnb.com/rooms/1436513  20160906204935   \n4   7651065   https://www.airbnb.com/rooms/7651065  20160906204935   \n\n  last_scraped                                           name  \\\n0   2016-09-07                     Sunny Bungalow in the City   \n1   2016-09-07              Charming room in pet friendly apt   \n2   2016-09-07               Mexican Folk Art Haven in Boston   \n3   2016-09-07  Spacious Sunny Bedroom Suite in Historic Home   \n4   2016-09-07                            Come Home to Boston   \n\n                                             summary  \\\n0  Cozy, sunny, family home.  Master bedroom high...   \n1  Charming and quiet room in a second floor 1910...   \n2  Come stay with a friendly, middle-aged guy in ...   \n3  Come experience the comforts of home away from...   \n4  My comfy, clean and relaxing home is one block...   \n\n                                               space  \\\n0  The house has an open and cozy feel at the sam...   \n1  Small but cozy and quite room with a full size...   \n2  Come stay with a friendly, middle-aged guy in ...   \n3  Most places you find in Boston are small howev...   \n4  Clean, attractive, private room, one block fro...   \n\n                                         description experiences_offered  \\\n0  Cozy, sunny, family home.  Master bedroom high...                none   \n1  Charming and quiet room in a second floor 1910...                none   \n2  Come stay with a friendly, middle-aged guy in ...                none   \n3  Come experience the comforts of home away from...                none   \n4  My comfy, clean and relaxing home is one block...                none   \n\n                               neighborhood_overview  ... review_scores_value  \\\n0  Roslindale is quiet, convenient and friendly. ...  ...                 NaN   \n1  The room is in Roslindale, a diverse and prima...  ...                 9.0   \n2  The LOCATION: Roslindale is a safe and diverse...  ...                10.0   \n3  Roslindale is a lovely little neighborhood loc...  ...                10.0   \n4  I love the proximity to downtown, the neighbor...  ...                10.0   \n\n  requires_license license jurisdiction_names instant_bookable  \\\n0                f     NaN                NaN                f   \n1                f     NaN                NaN                t   \n2                f     NaN                NaN                f   \n3                f     NaN                NaN                f   \n4                f     NaN                NaN                f   \n\n  cancellation_policy require_guest_profile_picture  \\\n0            moderate                             f   \n1            moderate                             f   \n2            moderate                             t   \n3            moderate                             f   \n4            flexible                             f   \n\n  require_guest_phone_verification calculated_host_listings_count  \\\n0                                f                              1   \n1                                f                              1   \n2                                f                              1   \n3                                f                              1   \n4                                f                              1   \n\n   reviews_per_month  \n0                NaN  \n1               1.30  \n2               0.47  \n3               1.00  \n4               2.25  \n\n[5 rows x 95 columns]",
      "text/html": "<div>\n<style scoped>\n    .dataframe tbody tr th:only-of-type {\n        vertical-align: middle;\n    }\n\n    .dataframe tbody tr th {\n        vertical-align: top;\n    }\n\n    .dataframe thead th {\n        text-align: right;\n    }\n</style>\n<table border=\"1\" class=\"dataframe\">\n  <thead>\n    <tr style=\"text-align: right;\">\n      <th></th>\n      <th>id</th>\n      <th>listing_url</th>\n      <th>scrape_id</th>\n      <th>last_scraped</th>\n      <th>name</th>\n      <th>summary</th>\n      <th>space</th>\n      <th>description</th>\n      <th>experiences_offered</th>\n      <th>neighborhood_overview</th>\n      <th>...</th>\n      <th>review_scores_value</th>\n      <th>requires_license</th>\n      <th>license</th>\n      <th>jurisdiction_names</th>\n      <th>instant_bookable</th>\n      <th>cancellation_policy</th>\n      <th>require_guest_profile_picture</th>\n      <th>require_guest_phone_verification</th>\n      <th>calculated_host_listings_count</th>\n      <th>reviews_per_month</th>\n    </tr>\n  </thead>\n  <tbody>\n    <tr>\n      <th>0</th>\n      <td>12147973</td>\n      <td>https://www.airbnb.com/rooms/12147973</td>\n      <td>20160906204935</td>\n      <td>2016-09-07</td>\n      <td>Sunny Bungalow in the City</td>\n      <td>Cozy, sunny, family home.  Master bedroom high...</td>\n      <td>The house has an open and cozy feel at the sam...</td>\n      <td>Cozy, sunny, family home.  Master bedroom high...</td>\n      <td>none</td>\n      <td>Roslindale is quiet, convenient and friendly. ...</td>\n      <td>...</td>\n      <td>NaN</td>\n      <td>f</td>\n      <td>NaN</td>\n      <td>NaN</td>\n      <td>f</td>\n      <td>moderate</td>\n      <td>f</td>\n      <td>f</td>\n      <td>1</td>\n      <td>NaN</td>\n    </tr>\n    <tr>\n      <th>1</th>\n      <td>3075044</td>\n      <td>https://www.airbnb.com/rooms/3075044</td>\n      <td>20160906204935</td>\n      <td>2016-09-07</td>\n      <td>Charming room in pet friendly apt</td>\n      <td>Charming and quiet room in a second floor 1910...</td>\n      <td>Small but cozy and quite room with a full size...</td>\n      <td>Charming and quiet room in a second floor 1910...</td>\n      <td>none</td>\n      <td>The room is in Roslindale, a diverse and prima...</td>\n      <td>...</td>\n      <td>9.0</td>\n      <td>f</td>\n      <td>NaN</td>\n      <td>NaN</td>\n      <td>t</td>\n      <td>moderate</td>\n      <td>f</td>\n      <td>f</td>\n      <td>1</td>\n      <td>1.30</td>\n    </tr>\n    <tr>\n      <th>2</th>\n      <td>6976</td>\n      <td>https://www.airbnb.com/rooms/6976</td>\n      <td>20160906204935</td>\n      <td>2016-09-07</td>\n      <td>Mexican Folk Art Haven in Boston</td>\n      <td>Come stay with a friendly, middle-aged guy in ...</td>\n      <td>Come stay with a friendly, middle-aged guy in ...</td>\n      <td>Come stay with a friendly, middle-aged guy in ...</td>\n      <td>none</td>\n      <td>The LOCATION: Roslindale is a safe and diverse...</td>\n      <td>...</td>\n      <td>10.0</td>\n      <td>f</td>\n      <td>NaN</td>\n      <td>NaN</td>\n      <td>f</td>\n      <td>moderate</td>\n      <td>t</td>\n      <td>f</td>\n      <td>1</td>\n      <td>0.47</td>\n    </tr>\n    <tr>\n      <th>3</th>\n      <td>1436513</td>\n      <td>https://www.airbnb.com/rooms/1436513</td>\n      <td>20160906204935</td>\n      <td>2016-09-07</td>\n      <td>Spacious Sunny Bedroom Suite in Historic Home</td>\n      <td>Come experience the comforts of home away from...</td>\n      <td>Most places you find in Boston are small howev...</td>\n      <td>Come experience the comforts of home away from...</td>\n      <td>none</td>\n      <td>Roslindale is a lovely little neighborhood loc...</td>\n      <td>...</td>\n      <td>10.0</td>\n      <td>f</td>\n      <td>NaN</td>\n      <td>NaN</td>\n      <td>f</td>\n      <td>moderate</td>\n      <td>f</td>\n      <td>f</td>\n      <td>1</td>\n      <td>1.00</td>\n    </tr>\n    <tr>\n      <th>4</th>\n      <td>7651065</td>\n      <td>https://www.airbnb.com/rooms/7651065</td>\n      <td>20160906204935</td>\n      <td>2016-09-07</td>\n      <td>Come Home to Boston</td>\n      <td>My comfy, clean and relaxing home is one block...</td>\n      <td>Clean, attractive, private room, one block fro...</td>\n      <td>My comfy, clean and relaxing home is one block...</td>\n      <td>none</td>\n      <td>I love the proximity to downtown, the neighbor...</td>\n      <td>...</td>\n      <td>10.0</td>\n      <td>f</td>\n      <td>NaN</td>\n      <td>NaN</td>\n      <td>f</td>\n      <td>flexible</td>\n      <td>f</td>\n      <td>f</td>\n      <td>1</td>\n      <td>2.25</td>\n    </tr>\n  </tbody>\n</table>\n<p>5 rows × 95 columns</p>\n</div>"
     },
     "execution_count": 54,
     "metadata": {},
     "output_type": "execute_result"
    }
   ],
   "source": [
    "listings_data.head()"
   ],
   "metadata": {
    "collapsed": false,
    "pycharm": {
     "name": "#%%\n"
    }
   }
  },
  {
   "cell_type": "markdown",
   "source": [
    "Here are the columns"
   ],
   "metadata": {
    "collapsed": false,
    "pycharm": {
     "name": "#%% md\n"
    }
   }
  },
  {
   "cell_type": "code",
   "execution_count": 55,
   "outputs": [
    {
     "name": "stdout",
     "output_type": "stream",
     "text": [
      "Index(['id', 'listing_url', 'scrape_id', 'last_scraped', 'name', 'summary',\n",
      "       'space', 'description', 'experiences_offered', 'neighborhood_overview',\n",
      "       'notes', 'transit', 'access', 'interaction', 'house_rules',\n",
      "       'thumbnail_url', 'medium_url', 'picture_url', 'xl_picture_url',\n",
      "       'host_id', 'host_url', 'host_name', 'host_since', 'host_location',\n",
      "       'host_about', 'host_response_time', 'host_response_rate',\n",
      "       'host_acceptance_rate', 'host_is_superhost', 'host_thumbnail_url',\n",
      "       'host_picture_url', 'host_neighbourhood', 'host_listings_count',\n",
      "       'host_total_listings_count', 'host_verifications',\n",
      "       'host_has_profile_pic', 'host_identity_verified', 'street',\n",
      "       'neighbourhood', 'neighbourhood_cleansed',\n",
      "       'neighbourhood_group_cleansed', 'city', 'state', 'zipcode', 'market',\n",
      "       'smart_location', 'country_code', 'country', 'latitude', 'longitude',\n",
      "       'is_location_exact', 'property_type', 'room_type', 'accommodates',\n",
      "       'bathrooms', 'bedrooms', 'beds', 'bed_type', 'amenities', 'square_feet',\n",
      "       'price', 'weekly_price', 'monthly_price', 'security_deposit',\n",
      "       'cleaning_fee', 'guests_included', 'extra_people', 'minimum_nights',\n",
      "       'maximum_nights', 'calendar_updated', 'has_availability',\n",
      "       'availability_30', 'availability_60', 'availability_90',\n",
      "       'availability_365', 'calendar_last_scraped', 'number_of_reviews',\n",
      "       'first_review', 'last_review', 'review_scores_rating',\n",
      "       'review_scores_accuracy', 'review_scores_cleanliness',\n",
      "       'review_scores_checkin', 'review_scores_communication',\n",
      "       'review_scores_location', 'review_scores_value', 'requires_license',\n",
      "       'license', 'jurisdiction_names', 'instant_bookable',\n",
      "       'cancellation_policy', 'require_guest_profile_picture',\n",
      "       'require_guest_phone_verification', 'calculated_host_listings_count',\n",
      "       'reviews_per_month'],\n",
      "      dtype='object')\n",
      "id                                    int64\n",
      "listing_url                          object\n",
      "scrape_id                             int64\n",
      "last_scraped                         object\n",
      "name                                 object\n",
      "                                     ...   \n",
      "cancellation_policy                  object\n",
      "require_guest_profile_picture        object\n",
      "require_guest_phone_verification     object\n",
      "calculated_host_listings_count        int64\n",
      "reviews_per_month                   float64\n",
      "Length: 95, dtype: object\n"
     ]
    }
   ],
   "source": [
    "print(listings_data.columns)\n",
    "print(listings_data.dtypes)"
   ],
   "metadata": {
    "collapsed": false,
    "pycharm": {
     "name": "#%%\n"
    }
   }
  },
  {
   "cell_type": "markdown",
   "source": [
    "Description:"
   ],
   "metadata": {
    "collapsed": false,
    "pycharm": {
     "name": "#%% md\n"
    }
   }
  },
  {
   "cell_type": "code",
   "execution_count": 56,
   "outputs": [
    {
     "data": {
      "text/plain": "                 id     scrape_id       host_id  host_listings_count  \\\ncount  7.403000e+03  7.403000e+03  7.403000e+03          7401.000000   \nmean   6.950001e+06  2.016049e+13  2.021053e+07            32.222537   \nstd    4.052397e+06  4.009296e+08  1.962309e+07           123.585161   \nmin    3.335000e+03  2.016010e+13  4.193000e+03             0.000000   \n25%    3.864100e+06  2.016010e+13  4.343164e+06             1.000000   \n50%    7.035240e+06  2.016010e+13  1.448650e+07             1.000000   \n75%    9.500804e+06  2.016091e+13  3.028359e+07             4.000000   \nmax    1.493346e+07  2.016091e+13  9.385411e+07           749.000000   \n\n       host_total_listings_count     latitude    longitude  accommodates  \\\ncount                7401.000000  7403.000000  7403.000000   7403.000000   \nmean                   32.222537    45.067727   -97.515448      3.200189   \nstd                   123.585161     2.643568    25.613198      1.890166   \nmin                     0.000000    42.235942  -122.417219      1.000000   \n25%                     1.000000    42.345668  -122.330837      2.000000   \n50%                     1.000000    47.542907  -122.276419      2.000000   \n75%                     4.000000    47.624460   -71.079518      4.000000   \nmax                   749.000000    47.733358   -71.000100     16.000000   \n\n         bathrooms     bedrooms  ...  review_scores_rating  \\\ncount  7373.000000  7387.000000  ...           5943.000000   \nmean      1.241150     1.282659  ...             93.316002   \nstd       0.549408     0.823251  ...              8.207451   \nmin       0.000000     0.000000  ...             20.000000   \n25%       1.000000     1.000000  ...             91.000000   \n50%       1.000000     1.000000  ...             96.000000   \n75%       1.000000     2.000000  ...             99.000000   \nmax       8.000000     7.000000  ...            100.000000   \n\n       review_scores_accuracy  review_scores_cleanliness  \\\ncount             5922.000000                5932.000000   \nmean                 9.540865                   9.417229   \nstd                  0.821783                   0.999271   \nmin                  2.000000                   2.000000   \n25%                  9.000000                   9.000000   \n50%                 10.000000                  10.000000   \n75%                 10.000000                  10.000000   \nmax                 10.000000                  10.000000   \n\n       review_scores_checkin  review_scores_communication  \\\ncount            5925.000000                  5934.000000   \nmean                9.721181                     9.733569   \nstd                 0.682247                     0.656589   \nmin                 2.000000                     2.000000   \n25%                10.000000                    10.000000   \n50%                10.000000                    10.000000   \n75%                10.000000                    10.000000   \nmax                10.000000                    10.000000   \n\n       review_scores_location  review_scores_value  license  \\\ncount             5926.000000          5926.000000      0.0   \nmean                 9.518056             9.319777      NaN   \nstd                  0.775312             0.892824      NaN   \nmin                  2.000000             2.000000      NaN   \n25%                  9.000000             9.000000      NaN   \n50%                 10.000000             9.000000      NaN   \n75%                 10.000000            10.000000      NaN   \nmax                 10.000000            10.000000      NaN   \n\n       calculated_host_listings_count  reviews_per_month  \ncount                     7403.000000        6020.000000  \nmean                         7.686073           2.028161  \nstd                         21.465871           1.968696  \nmin                          1.000000           0.010000  \n25%                          1.000000           0.590000  \n50%                          1.000000           1.370000  \n75%                          3.000000           2.890000  \nmax                        136.000000          19.150000  \n\n[8 rows x 30 columns]",
      "text/html": "<div>\n<style scoped>\n    .dataframe tbody tr th:only-of-type {\n        vertical-align: middle;\n    }\n\n    .dataframe tbody tr th {\n        vertical-align: top;\n    }\n\n    .dataframe thead th {\n        text-align: right;\n    }\n</style>\n<table border=\"1\" class=\"dataframe\">\n  <thead>\n    <tr style=\"text-align: right;\">\n      <th></th>\n      <th>id</th>\n      <th>scrape_id</th>\n      <th>host_id</th>\n      <th>host_listings_count</th>\n      <th>host_total_listings_count</th>\n      <th>latitude</th>\n      <th>longitude</th>\n      <th>accommodates</th>\n      <th>bathrooms</th>\n      <th>bedrooms</th>\n      <th>...</th>\n      <th>review_scores_rating</th>\n      <th>review_scores_accuracy</th>\n      <th>review_scores_cleanliness</th>\n      <th>review_scores_checkin</th>\n      <th>review_scores_communication</th>\n      <th>review_scores_location</th>\n      <th>review_scores_value</th>\n      <th>license</th>\n      <th>calculated_host_listings_count</th>\n      <th>reviews_per_month</th>\n    </tr>\n  </thead>\n  <tbody>\n    <tr>\n      <th>count</th>\n      <td>7.403000e+03</td>\n      <td>7.403000e+03</td>\n      <td>7.403000e+03</td>\n      <td>7401.000000</td>\n      <td>7401.000000</td>\n      <td>7403.000000</td>\n      <td>7403.000000</td>\n      <td>7403.000000</td>\n      <td>7373.000000</td>\n      <td>7387.000000</td>\n      <td>...</td>\n      <td>5943.000000</td>\n      <td>5922.000000</td>\n      <td>5932.000000</td>\n      <td>5925.000000</td>\n      <td>5934.000000</td>\n      <td>5926.000000</td>\n      <td>5926.000000</td>\n      <td>0.0</td>\n      <td>7403.000000</td>\n      <td>6020.000000</td>\n    </tr>\n    <tr>\n      <th>mean</th>\n      <td>6.950001e+06</td>\n      <td>2.016049e+13</td>\n      <td>2.021053e+07</td>\n      <td>32.222537</td>\n      <td>32.222537</td>\n      <td>45.067727</td>\n      <td>-97.515448</td>\n      <td>3.200189</td>\n      <td>1.241150</td>\n      <td>1.282659</td>\n      <td>...</td>\n      <td>93.316002</td>\n      <td>9.540865</td>\n      <td>9.417229</td>\n      <td>9.721181</td>\n      <td>9.733569</td>\n      <td>9.518056</td>\n      <td>9.319777</td>\n      <td>NaN</td>\n      <td>7.686073</td>\n      <td>2.028161</td>\n    </tr>\n    <tr>\n      <th>std</th>\n      <td>4.052397e+06</td>\n      <td>4.009296e+08</td>\n      <td>1.962309e+07</td>\n      <td>123.585161</td>\n      <td>123.585161</td>\n      <td>2.643568</td>\n      <td>25.613198</td>\n      <td>1.890166</td>\n      <td>0.549408</td>\n      <td>0.823251</td>\n      <td>...</td>\n      <td>8.207451</td>\n      <td>0.821783</td>\n      <td>0.999271</td>\n      <td>0.682247</td>\n      <td>0.656589</td>\n      <td>0.775312</td>\n      <td>0.892824</td>\n      <td>NaN</td>\n      <td>21.465871</td>\n      <td>1.968696</td>\n    </tr>\n    <tr>\n      <th>min</th>\n      <td>3.335000e+03</td>\n      <td>2.016010e+13</td>\n      <td>4.193000e+03</td>\n      <td>0.000000</td>\n      <td>0.000000</td>\n      <td>42.235942</td>\n      <td>-122.417219</td>\n      <td>1.000000</td>\n      <td>0.000000</td>\n      <td>0.000000</td>\n      <td>...</td>\n      <td>20.000000</td>\n      <td>2.000000</td>\n      <td>2.000000</td>\n      <td>2.000000</td>\n      <td>2.000000</td>\n      <td>2.000000</td>\n      <td>2.000000</td>\n      <td>NaN</td>\n      <td>1.000000</td>\n      <td>0.010000</td>\n    </tr>\n    <tr>\n      <th>25%</th>\n      <td>3.864100e+06</td>\n      <td>2.016010e+13</td>\n      <td>4.343164e+06</td>\n      <td>1.000000</td>\n      <td>1.000000</td>\n      <td>42.345668</td>\n      <td>-122.330837</td>\n      <td>2.000000</td>\n      <td>1.000000</td>\n      <td>1.000000</td>\n      <td>...</td>\n      <td>91.000000</td>\n      <td>9.000000</td>\n      <td>9.000000</td>\n      <td>10.000000</td>\n      <td>10.000000</td>\n      <td>9.000000</td>\n      <td>9.000000</td>\n      <td>NaN</td>\n      <td>1.000000</td>\n      <td>0.590000</td>\n    </tr>\n    <tr>\n      <th>50%</th>\n      <td>7.035240e+06</td>\n      <td>2.016010e+13</td>\n      <td>1.448650e+07</td>\n      <td>1.000000</td>\n      <td>1.000000</td>\n      <td>47.542907</td>\n      <td>-122.276419</td>\n      <td>2.000000</td>\n      <td>1.000000</td>\n      <td>1.000000</td>\n      <td>...</td>\n      <td>96.000000</td>\n      <td>10.000000</td>\n      <td>10.000000</td>\n      <td>10.000000</td>\n      <td>10.000000</td>\n      <td>10.000000</td>\n      <td>9.000000</td>\n      <td>NaN</td>\n      <td>1.000000</td>\n      <td>1.370000</td>\n    </tr>\n    <tr>\n      <th>75%</th>\n      <td>9.500804e+06</td>\n      <td>2.016091e+13</td>\n      <td>3.028359e+07</td>\n      <td>4.000000</td>\n      <td>4.000000</td>\n      <td>47.624460</td>\n      <td>-71.079518</td>\n      <td>4.000000</td>\n      <td>1.000000</td>\n      <td>2.000000</td>\n      <td>...</td>\n      <td>99.000000</td>\n      <td>10.000000</td>\n      <td>10.000000</td>\n      <td>10.000000</td>\n      <td>10.000000</td>\n      <td>10.000000</td>\n      <td>10.000000</td>\n      <td>NaN</td>\n      <td>3.000000</td>\n      <td>2.890000</td>\n    </tr>\n    <tr>\n      <th>max</th>\n      <td>1.493346e+07</td>\n      <td>2.016091e+13</td>\n      <td>9.385411e+07</td>\n      <td>749.000000</td>\n      <td>749.000000</td>\n      <td>47.733358</td>\n      <td>-71.000100</td>\n      <td>16.000000</td>\n      <td>8.000000</td>\n      <td>7.000000</td>\n      <td>...</td>\n      <td>100.000000</td>\n      <td>10.000000</td>\n      <td>10.000000</td>\n      <td>10.000000</td>\n      <td>10.000000</td>\n      <td>10.000000</td>\n      <td>10.000000</td>\n      <td>NaN</td>\n      <td>136.000000</td>\n      <td>19.150000</td>\n    </tr>\n  </tbody>\n</table>\n<p>8 rows × 30 columns</p>\n</div>"
     },
     "execution_count": 56,
     "metadata": {},
     "output_type": "execute_result"
    }
   ],
   "source": [
    "listings_data.describe()"
   ],
   "metadata": {
    "collapsed": false,
    "pycharm": {
     "name": "#%%\n"
    }
   }
  },
  {
   "cell_type": "markdown",
   "source": [
    "### `calendar.csv`"
   ],
   "metadata": {
    "collapsed": false,
    "pycharm": {
     "name": "#%% md\n"
    }
   }
  },
  {
   "cell_type": "code",
   "execution_count": 57,
   "outputs": [
    {
     "data": {
      "text/plain": "   listing_id        date available price\n0    12147973  2017-09-05         f   NaN\n1    12147973  2017-09-04         f   NaN\n2    12147973  2017-09-03         f   NaN\n3    12147973  2017-09-02         f   NaN\n4    12147973  2017-09-01         f   NaN",
      "text/html": "<div>\n<style scoped>\n    .dataframe tbody tr th:only-of-type {\n        vertical-align: middle;\n    }\n\n    .dataframe tbody tr th {\n        vertical-align: top;\n    }\n\n    .dataframe thead th {\n        text-align: right;\n    }\n</style>\n<table border=\"1\" class=\"dataframe\">\n  <thead>\n    <tr style=\"text-align: right;\">\n      <th></th>\n      <th>listing_id</th>\n      <th>date</th>\n      <th>available</th>\n      <th>price</th>\n    </tr>\n  </thead>\n  <tbody>\n    <tr>\n      <th>0</th>\n      <td>12147973</td>\n      <td>2017-09-05</td>\n      <td>f</td>\n      <td>NaN</td>\n    </tr>\n    <tr>\n      <th>1</th>\n      <td>12147973</td>\n      <td>2017-09-04</td>\n      <td>f</td>\n      <td>NaN</td>\n    </tr>\n    <tr>\n      <th>2</th>\n      <td>12147973</td>\n      <td>2017-09-03</td>\n      <td>f</td>\n      <td>NaN</td>\n    </tr>\n    <tr>\n      <th>3</th>\n      <td>12147973</td>\n      <td>2017-09-02</td>\n      <td>f</td>\n      <td>NaN</td>\n    </tr>\n    <tr>\n      <th>4</th>\n      <td>12147973</td>\n      <td>2017-09-01</td>\n      <td>f</td>\n      <td>NaN</td>\n    </tr>\n  </tbody>\n</table>\n</div>"
     },
     "execution_count": 57,
     "metadata": {},
     "output_type": "execute_result"
    }
   ],
   "source": [
    "boston_calendar_data=pd.read_csv(\"data/boston/calendar.csv\")\n",
    "seattle_calendar_data=pd.read_csv(\"data/seattle/calendar.csv\")\n",
    "calendar_data=pd.concat((boston_calendar_data, seattle_calendar_data), axis=0)\n",
    "\n",
    "calendar_data.head()"
   ],
   "metadata": {
    "collapsed": false,
    "pycharm": {
     "name": "#%%\n"
    }
   }
  },
  {
   "cell_type": "markdown",
   "source": [
    "The columns:"
   ],
   "metadata": {
    "collapsed": false,
    "pycharm": {
     "name": "#%% md\n"
    }
   }
  },
  {
   "cell_type": "code",
   "execution_count": 58,
   "outputs": [
    {
     "name": "stdout",
     "output_type": "stream",
     "text": [
      "Index(['listing_id', 'date', 'available', 'price'], dtype='object')\n",
      "listing_id     int64\n",
      "date          object\n",
      "available     object\n",
      "price         object\n",
      "dtype: object\n"
     ]
    }
   ],
   "source": [
    "print(calendar_data.columns)\n",
    "print(calendar_data.dtypes)"
   ],
   "metadata": {
    "collapsed": false,
    "pycharm": {
     "name": "#%%\n"
    }
   }
  },
  {
   "cell_type": "markdown",
   "source": [
    "The overall description"
   ],
   "metadata": {
    "collapsed": false,
    "pycharm": {
     "name": "#%% md\n"
    }
   }
  },
  {
   "cell_type": "code",
   "execution_count": 59,
   "outputs": [
    {
     "data": {
      "text/plain": "         listing_id\ncount  2.702460e+06\nmean   6.950805e+06\nstd    4.052440e+06\nmin    3.335000e+03\n25%    3.865313e+06\n50%    7.035369e+06\n75%    9.504211e+06\nmax    1.493346e+07",
      "text/html": "<div>\n<style scoped>\n    .dataframe tbody tr th:only-of-type {\n        vertical-align: middle;\n    }\n\n    .dataframe tbody tr th {\n        vertical-align: top;\n    }\n\n    .dataframe thead th {\n        text-align: right;\n    }\n</style>\n<table border=\"1\" class=\"dataframe\">\n  <thead>\n    <tr style=\"text-align: right;\">\n      <th></th>\n      <th>listing_id</th>\n    </tr>\n  </thead>\n  <tbody>\n    <tr>\n      <th>count</th>\n      <td>2.702460e+06</td>\n    </tr>\n    <tr>\n      <th>mean</th>\n      <td>6.950805e+06</td>\n    </tr>\n    <tr>\n      <th>std</th>\n      <td>4.052440e+06</td>\n    </tr>\n    <tr>\n      <th>min</th>\n      <td>3.335000e+03</td>\n    </tr>\n    <tr>\n      <th>25%</th>\n      <td>3.865313e+06</td>\n    </tr>\n    <tr>\n      <th>50%</th>\n      <td>7.035369e+06</td>\n    </tr>\n    <tr>\n      <th>75%</th>\n      <td>9.504211e+06</td>\n    </tr>\n    <tr>\n      <th>max</th>\n      <td>1.493346e+07</td>\n    </tr>\n  </tbody>\n</table>\n</div>"
     },
     "execution_count": 59,
     "metadata": {},
     "output_type": "execute_result"
    }
   ],
   "source": [
    "calendar_data.describe()\n"
   ],
   "metadata": {
    "collapsed": false,
    "pycharm": {
     "name": "#%%\n"
    }
   }
  },
  {
   "cell_type": "markdown",
   "source": [
    "You will note that the \"primary key\" of this table is a compound key -- `listing_id` and `date`.  The price\n",
    "data is only filled in when the availability is true (represented by 't' in this dataset)"
   ],
   "metadata": {
    "collapsed": false,
    "pycharm": {
     "name": "#%% md\n"
    }
   }
  },
  {
   "cell_type": "code",
   "execution_count": 60,
   "outputs": [
    {
     "data": {
      "text/plain": "     listing_id        date available   price\n365     3075044  2017-08-22         t  $65.00\n366     3075044  2017-08-21         t  $65.00\n367     3075044  2017-08-20         t  $65.00\n368     3075044  2017-08-19         t  $75.00\n369     3075044  2017-08-18         t  $75.00",
      "text/html": "<div>\n<style scoped>\n    .dataframe tbody tr th:only-of-type {\n        vertical-align: middle;\n    }\n\n    .dataframe tbody tr th {\n        vertical-align: top;\n    }\n\n    .dataframe thead th {\n        text-align: right;\n    }\n</style>\n<table border=\"1\" class=\"dataframe\">\n  <thead>\n    <tr style=\"text-align: right;\">\n      <th></th>\n      <th>listing_id</th>\n      <th>date</th>\n      <th>available</th>\n      <th>price</th>\n    </tr>\n  </thead>\n  <tbody>\n    <tr>\n      <th>365</th>\n      <td>3075044</td>\n      <td>2017-08-22</td>\n      <td>t</td>\n      <td>$65.00</td>\n    </tr>\n    <tr>\n      <th>366</th>\n      <td>3075044</td>\n      <td>2017-08-21</td>\n      <td>t</td>\n      <td>$65.00</td>\n    </tr>\n    <tr>\n      <th>367</th>\n      <td>3075044</td>\n      <td>2017-08-20</td>\n      <td>t</td>\n      <td>$65.00</td>\n    </tr>\n    <tr>\n      <th>368</th>\n      <td>3075044</td>\n      <td>2017-08-19</td>\n      <td>t</td>\n      <td>$75.00</td>\n    </tr>\n    <tr>\n      <th>369</th>\n      <td>3075044</td>\n      <td>2017-08-18</td>\n      <td>t</td>\n      <td>$75.00</td>\n    </tr>\n  </tbody>\n</table>\n</div>"
     },
     "execution_count": 60,
     "metadata": {},
     "output_type": "execute_result"
    }
   ],
   "source": [
    "calendar_data[calendar_data.available == 't'].head()"
   ],
   "metadata": {
    "collapsed": false,
    "pycharm": {
     "name": "#%%\n"
    }
   }
  },
  {
   "cell_type": "markdown",
   "source": [
    "### `reviews.csv`\n",
    "\n",
    "Let's now look at the reviews data."
   ],
   "metadata": {
    "collapsed": false,
    "pycharm": {
     "name": "#%% md\n"
    }
   }
  },
  {
   "cell_type": "code",
   "execution_count": 61,
   "outputs": [
    {
     "data": {
      "text/plain": "   listing_id       id        date  reviewer_id reviewer_name  \\\n0     1178162  4724140  2013-05-21      4298113       Olivier   \n1     1178162  4869189  2013-05-29      6452964     Charlotte   \n2     1178162  5003196  2013-06-06      6449554     Sebastian   \n3     1178162  5150351  2013-06-15      2215611        Marine   \n4     1178162  5171140  2013-06-16      6848427        Andrew   \n\n                                            comments  \n0  My stay at islam's place was really cool! Good...  \n1  Great location for both airport and city - gre...  \n2  We really enjoyed our stay at Islams house. Fr...  \n3  The room was nice and clean and so were the co...  \n4  Great location. Just 5 mins walk from the Airp...  ",
      "text/html": "<div>\n<style scoped>\n    .dataframe tbody tr th:only-of-type {\n        vertical-align: middle;\n    }\n\n    .dataframe tbody tr th {\n        vertical-align: top;\n    }\n\n    .dataframe thead th {\n        text-align: right;\n    }\n</style>\n<table border=\"1\" class=\"dataframe\">\n  <thead>\n    <tr style=\"text-align: right;\">\n      <th></th>\n      <th>listing_id</th>\n      <th>id</th>\n      <th>date</th>\n      <th>reviewer_id</th>\n      <th>reviewer_name</th>\n      <th>comments</th>\n    </tr>\n  </thead>\n  <tbody>\n    <tr>\n      <th>0</th>\n      <td>1178162</td>\n      <td>4724140</td>\n      <td>2013-05-21</td>\n      <td>4298113</td>\n      <td>Olivier</td>\n      <td>My stay at islam's place was really cool! Good...</td>\n    </tr>\n    <tr>\n      <th>1</th>\n      <td>1178162</td>\n      <td>4869189</td>\n      <td>2013-05-29</td>\n      <td>6452964</td>\n      <td>Charlotte</td>\n      <td>Great location for both airport and city - gre...</td>\n    </tr>\n    <tr>\n      <th>2</th>\n      <td>1178162</td>\n      <td>5003196</td>\n      <td>2013-06-06</td>\n      <td>6449554</td>\n      <td>Sebastian</td>\n      <td>We really enjoyed our stay at Islams house. Fr...</td>\n    </tr>\n    <tr>\n      <th>3</th>\n      <td>1178162</td>\n      <td>5150351</td>\n      <td>2013-06-15</td>\n      <td>2215611</td>\n      <td>Marine</td>\n      <td>The room was nice and clean and so were the co...</td>\n    </tr>\n    <tr>\n      <th>4</th>\n      <td>1178162</td>\n      <td>5171140</td>\n      <td>2013-06-16</td>\n      <td>6848427</td>\n      <td>Andrew</td>\n      <td>Great location. Just 5 mins walk from the Airp...</td>\n    </tr>\n  </tbody>\n</table>\n</div>"
     },
     "execution_count": 61,
     "metadata": {},
     "output_type": "execute_result"
    }
   ],
   "source": [
    "boston_reviews_data=pd.read_csv(\"data/boston/reviews.csv\")\n",
    "seattle_reviews_data=pd.read_csv(\"data/boston/reviews.csv\")\n",
    "reviews_data=pd.concat((boston_reviews_data, seattle_reviews_data), axis=0)\n",
    "\n",
    "reviews_data.head()"
   ],
   "metadata": {
    "collapsed": false,
    "pycharm": {
     "name": "#%%\n"
    }
   }
  },
  {
   "cell_type": "code",
   "execution_count": 62,
   "outputs": [
    {
     "data": {
      "text/plain": "         listing_id            id   reviewer_id\ncount  1.365500e+05  1.365500e+05  1.365500e+05\nmean   4.759910e+06  5.246516e+07  2.802389e+07\nstd    3.788976e+06  2.790981e+07  2.234089e+07\nmin    3.353000e+03  1.021000e+03  1.430000e+02\n25%    1.458081e+06  3.010383e+07  9.000848e+06\n50%    4.080000e+06  5.223121e+07  2.305179e+07\n75%    7.377034e+06  7.663336e+07  4.213484e+07\nmax    1.484378e+07  9.999045e+07  9.335034e+07",
      "text/html": "<div>\n<style scoped>\n    .dataframe tbody tr th:only-of-type {\n        vertical-align: middle;\n    }\n\n    .dataframe tbody tr th {\n        vertical-align: top;\n    }\n\n    .dataframe thead th {\n        text-align: right;\n    }\n</style>\n<table border=\"1\" class=\"dataframe\">\n  <thead>\n    <tr style=\"text-align: right;\">\n      <th></th>\n      <th>listing_id</th>\n      <th>id</th>\n      <th>reviewer_id</th>\n    </tr>\n  </thead>\n  <tbody>\n    <tr>\n      <th>count</th>\n      <td>1.365500e+05</td>\n      <td>1.365500e+05</td>\n      <td>1.365500e+05</td>\n    </tr>\n    <tr>\n      <th>mean</th>\n      <td>4.759910e+06</td>\n      <td>5.246516e+07</td>\n      <td>2.802389e+07</td>\n    </tr>\n    <tr>\n      <th>std</th>\n      <td>3.788976e+06</td>\n      <td>2.790981e+07</td>\n      <td>2.234089e+07</td>\n    </tr>\n    <tr>\n      <th>min</th>\n      <td>3.353000e+03</td>\n      <td>1.021000e+03</td>\n      <td>1.430000e+02</td>\n    </tr>\n    <tr>\n      <th>25%</th>\n      <td>1.458081e+06</td>\n      <td>3.010383e+07</td>\n      <td>9.000848e+06</td>\n    </tr>\n    <tr>\n      <th>50%</th>\n      <td>4.080000e+06</td>\n      <td>5.223121e+07</td>\n      <td>2.305179e+07</td>\n    </tr>\n    <tr>\n      <th>75%</th>\n      <td>7.377034e+06</td>\n      <td>7.663336e+07</td>\n      <td>4.213484e+07</td>\n    </tr>\n    <tr>\n      <th>max</th>\n      <td>1.484378e+07</td>\n      <td>9.999045e+07</td>\n      <td>9.335034e+07</td>\n    </tr>\n  </tbody>\n</table>\n</div>"
     },
     "execution_count": 62,
     "metadata": {},
     "output_type": "execute_result"
    }
   ],
   "source": [
    "reviews_data.describe()"
   ],
   "metadata": {
    "collapsed": false,
    "pycharm": {
     "name": "#%%\n"
    }
   }
  },
  {
   "cell_type": "markdown",
   "source": [
    "There isn't too much surprising here.  The primary key is `id`, here, but it will be difficult to do too much\n",
    "of interest with this data without more advanced NLP techniques: as you can see, only the text of the review is\n",
    "given -- no \"star rating.\"  Because the main content here is in the review comments, which are hard to process,\n",
    "we will not make use of the `reviews.csv` files in this project.  The rest of the steps will only\n",
    "deal with the `listings.csv` and `calendar.csv` files.\n",
    "\n",
    "## Data Preparation\n",
    "\n",
    "The first step is to reduce the number of columns to a more manageable level, by removing those that we will\n",
    "be unlikely to use.  We'll start with columns that seem to be just plain text (i.e. things like\n",
    "\"review comments\" or \"free text descriptions\").  Note that this will not include something like \"Neighborhood\" which,\n",
    "for any metro area, would probably only take relatively few discrete values.  Note also that this _will_ include\n",
    " columns like `host_id`, which happen to contain numbers, but where the information they intend to convey isn't\n",
    " truly quantitative in nature.\n",
    "\n",
    "Note that this is not a statement that such columns cannot contain useful data.  They can!  But making use of this\n",
    "data would likely require NLP techniques that would take a larger amount of time to apply properly here.\n",
    "\n",
    "### `listings.csv`\n",
    "We will start with the big one (in terms of number of columns): `listings`.\n",
    "\n",
    "#### Reducing Columns\n",
    "\n",
    "There are a very large number of columns in this dataset, many of which are hard to process or don't provide good data;\n",
    "let's start by paring these down."
   ],
   "metadata": {
    "collapsed": false,
    "pycharm": {
     "name": "#%% md\n"
    }
   }
  },
  {
   "cell_type": "code",
   "execution_count": 63,
   "outputs": [
    {
     "data": {
      "text/plain": "          host_since                         host_location  \\\nid                                                           \n12147973  2015-04-15  Boston, Massachusetts, United States   \n3075044   2012-06-07  Boston, Massachusetts, United States   \n6976      2009-05-11  Boston, Massachusetts, United States   \n1436513   2013-04-21  Boston, Massachusetts, United States   \n7651065   2014-05-11  Boston, Massachusetts, United States   \n\n          host_response_time host_response_rate host_acceptance_rate  \\\nid                                                                     \n12147973                 NaN                NaN                  NaN   \n3075044       within an hour               100%                 100%   \n6976      within a few hours               100%                  88%   \n1436513   within a few hours               100%                  50%   \n7651065       within an hour               100%                 100%   \n\n         host_is_superhost host_neighbourhood  \\\nid                                              \n12147973                 f         Roslindale   \n3075044                  f         Roslindale   \n6976                     t         Roslindale   \n1436513                  f                NaN   \n7651065                  t         Roslindale   \n\n                                         host_verifications  \\\nid                                                            \n12147973          ['email', 'phone', 'facebook', 'reviews']   \n3075044   ['email', 'phone', 'facebook', 'linkedin', 'am...   \n6976                 ['email', 'phone', 'reviews', 'jumio']   \n1436513                       ['email', 'phone', 'reviews']   \n7651065                ['email', 'phone', 'reviews', 'kba']   \n\n         host_has_profile_pic host_identity_verified  ...  \\\nid                                                    ...   \n12147973                    t                      f  ...   \n3075044                     t                      t  ...   \n6976                        t                      t  ...   \n1436513                     t                      f  ...   \n7651065                     t                      t  ...   \n\n         review_scores_location review_scores_value requires_license  \\\nid                                                                     \n12147973                    NaN                 NaN                f   \n3075044                     9.0                 9.0                f   \n6976                        9.0                10.0                f   \n1436513                    10.0                10.0                f   \n7651065                     9.0                10.0                f   \n\n         jurisdiction_names instant_bookable cancellation_policy  \\\nid                                                                 \n12147973                NaN                f            moderate   \n3075044                 NaN                t            moderate   \n6976                    NaN                f            moderate   \n1436513                 NaN                f            moderate   \n7651065                 NaN                f            flexible   \n\n         require_guest_profile_picture require_guest_phone_verification  \\\nid                                                                        \n12147973                             f                                f   \n3075044                              f                                f   \n6976                                 t                                f   \n1436513                              f                                f   \n7651065                              f                                f   \n\n         calculated_host_listings_count reviews_per_month  \nid                                                         \n12147973                              1               NaN  \n3075044                               1              1.30  \n6976                                  1              0.47  \n1436513                               1              1.00  \n7651065                               1              2.25  \n\n[5 rows x 63 columns]",
      "text/html": "<div>\n<style scoped>\n    .dataframe tbody tr th:only-of-type {\n        vertical-align: middle;\n    }\n\n    .dataframe tbody tr th {\n        vertical-align: top;\n    }\n\n    .dataframe thead th {\n        text-align: right;\n    }\n</style>\n<table border=\"1\" class=\"dataframe\">\n  <thead>\n    <tr style=\"text-align: right;\">\n      <th></th>\n      <th>host_since</th>\n      <th>host_location</th>\n      <th>host_response_time</th>\n      <th>host_response_rate</th>\n      <th>host_acceptance_rate</th>\n      <th>host_is_superhost</th>\n      <th>host_neighbourhood</th>\n      <th>host_verifications</th>\n      <th>host_has_profile_pic</th>\n      <th>host_identity_verified</th>\n      <th>...</th>\n      <th>review_scores_location</th>\n      <th>review_scores_value</th>\n      <th>requires_license</th>\n      <th>jurisdiction_names</th>\n      <th>instant_bookable</th>\n      <th>cancellation_policy</th>\n      <th>require_guest_profile_picture</th>\n      <th>require_guest_phone_verification</th>\n      <th>calculated_host_listings_count</th>\n      <th>reviews_per_month</th>\n    </tr>\n    <tr>\n      <th>id</th>\n      <th></th>\n      <th></th>\n      <th></th>\n      <th></th>\n      <th></th>\n      <th></th>\n      <th></th>\n      <th></th>\n      <th></th>\n      <th></th>\n      <th></th>\n      <th></th>\n      <th></th>\n      <th></th>\n      <th></th>\n      <th></th>\n      <th></th>\n      <th></th>\n      <th></th>\n      <th></th>\n      <th></th>\n    </tr>\n  </thead>\n  <tbody>\n    <tr>\n      <th>12147973</th>\n      <td>2015-04-15</td>\n      <td>Boston, Massachusetts, United States</td>\n      <td>NaN</td>\n      <td>NaN</td>\n      <td>NaN</td>\n      <td>f</td>\n      <td>Roslindale</td>\n      <td>['email', 'phone', 'facebook', 'reviews']</td>\n      <td>t</td>\n      <td>f</td>\n      <td>...</td>\n      <td>NaN</td>\n      <td>NaN</td>\n      <td>f</td>\n      <td>NaN</td>\n      <td>f</td>\n      <td>moderate</td>\n      <td>f</td>\n      <td>f</td>\n      <td>1</td>\n      <td>NaN</td>\n    </tr>\n    <tr>\n      <th>3075044</th>\n      <td>2012-06-07</td>\n      <td>Boston, Massachusetts, United States</td>\n      <td>within an hour</td>\n      <td>100%</td>\n      <td>100%</td>\n      <td>f</td>\n      <td>Roslindale</td>\n      <td>['email', 'phone', 'facebook', 'linkedin', 'am...</td>\n      <td>t</td>\n      <td>t</td>\n      <td>...</td>\n      <td>9.0</td>\n      <td>9.0</td>\n      <td>f</td>\n      <td>NaN</td>\n      <td>t</td>\n      <td>moderate</td>\n      <td>f</td>\n      <td>f</td>\n      <td>1</td>\n      <td>1.30</td>\n    </tr>\n    <tr>\n      <th>6976</th>\n      <td>2009-05-11</td>\n      <td>Boston, Massachusetts, United States</td>\n      <td>within a few hours</td>\n      <td>100%</td>\n      <td>88%</td>\n      <td>t</td>\n      <td>Roslindale</td>\n      <td>['email', 'phone', 'reviews', 'jumio']</td>\n      <td>t</td>\n      <td>t</td>\n      <td>...</td>\n      <td>9.0</td>\n      <td>10.0</td>\n      <td>f</td>\n      <td>NaN</td>\n      <td>f</td>\n      <td>moderate</td>\n      <td>t</td>\n      <td>f</td>\n      <td>1</td>\n      <td>0.47</td>\n    </tr>\n    <tr>\n      <th>1436513</th>\n      <td>2013-04-21</td>\n      <td>Boston, Massachusetts, United States</td>\n      <td>within a few hours</td>\n      <td>100%</td>\n      <td>50%</td>\n      <td>f</td>\n      <td>NaN</td>\n      <td>['email', 'phone', 'reviews']</td>\n      <td>t</td>\n      <td>f</td>\n      <td>...</td>\n      <td>10.0</td>\n      <td>10.0</td>\n      <td>f</td>\n      <td>NaN</td>\n      <td>f</td>\n      <td>moderate</td>\n      <td>f</td>\n      <td>f</td>\n      <td>1</td>\n      <td>1.00</td>\n    </tr>\n    <tr>\n      <th>7651065</th>\n      <td>2014-05-11</td>\n      <td>Boston, Massachusetts, United States</td>\n      <td>within an hour</td>\n      <td>100%</td>\n      <td>100%</td>\n      <td>t</td>\n      <td>Roslindale</td>\n      <td>['email', 'phone', 'reviews', 'kba']</td>\n      <td>t</td>\n      <td>t</td>\n      <td>...</td>\n      <td>9.0</td>\n      <td>10.0</td>\n      <td>f</td>\n      <td>NaN</td>\n      <td>f</td>\n      <td>flexible</td>\n      <td>f</td>\n      <td>f</td>\n      <td>1</td>\n      <td>2.25</td>\n    </tr>\n  </tbody>\n</table>\n<p>5 rows × 63 columns</p>\n</div>"
     },
     "execution_count": 63,
     "metadata": {},
     "output_type": "execute_result"
    }
   ],
   "source": [
    "lising_columns_to_drop= [\n",
    "    'name', # Also not likely to be useful\n",
    "    'experiences_offered', # always 'none'\n",
    "    'listing_url', # Essentially just another id in this context\n",
    "    'scrape_id', # Essentially just another id in this context\n",
    "    'last_scraped', # unlikely to be useful\n",
    "    'summary', # free text, hard to use\n",
    "    'space', # free text, hard to use\n",
    "    'description', # free text, hard to use\n",
    "    'neighborhood_overview', # free text, hard to use\n",
    "    'notes', # free text, hard to use\n",
    "    'transit', # free text, hard to use\n",
    "    'access', # free text, hard to use\n",
    "    'interaction', # free text, hard to use\n",
    "    'house_rules', # free text, hard to use\n",
    "    'thumbnail_url', # not likely useful\n",
    "    'medium_url', # not likely useful\n",
    "    'neighbourhood', # There is already neighbourhood_cleansed, may as well just use that\n",
    "    'picture_url', # not likely useful\n",
    "    'xl_picture_url', # not likely useful\n",
    "    'host_id', # not likely useful\n",
    "    'host_url', # not likely useful\n",
    "    'host_name', # not likely useful\n",
    "    'host_about', # not likely useful\n",
    "    'host_thumbnail_url', # not likely useful\n",
    "    'host_picture_url', # not likely useful\n",
    "    'latitude', # probably not too useful, neighbourhood probably better\n",
    "    'longitude', # probably better to use neighbourhood instead\n",
    "    'square_feet', # Too few entries have this to be great to use.\n",
    "    'host_listings_count', # Probably superceded by calculated_host_listings_count\n",
    "    'host_total_listings_count', # Always equals host_listings_count\n",
    "    'license', # never present\n",
    "]\n",
    "\n",
    "\n",
    "listings_data = listings_data[listings_data['market'].isin(['Seattle', 'Boston'])]\n",
    "listings_data = listings_data.drop(lising_columns_to_drop, axis=1)\n",
    "listings_data.set_index('id', inplace=True)\n",
    "listings_data.head()"
   ],
   "metadata": {
    "collapsed": false,
    "pycharm": {
     "name": "#%%\n"
    }
   }
  },
  {
   "cell_type": "markdown",
   "source": [
    "#### Gathering numerical and categorical columns\n",
    "\n",
    "Let's split the columns into numeric and non-numeric:"
   ],
   "metadata": {
    "collapsed": false,
    "pycharm": {
     "name": "#%% md\n"
    }
   }
  },
  {
   "cell_type": "code",
   "source": [
    "numeric_columns = listings_data.select_dtypes(include=['int', 'float']).columns\n",
    "numeric_columns"
   ],
   "metadata": {
    "collapsed": false,
    "pycharm": {
     "name": "#%%\n"
    }
   },
   "execution_count": 64,
   "outputs": [
    {
     "data": {
      "text/plain": "Index(['accommodates', 'bathrooms', 'bedrooms', 'beds', 'guests_included',\n       'minimum_nights', 'maximum_nights', 'availability_30',\n       'availability_60', 'availability_90', 'availability_365',\n       'number_of_reviews', 'review_scores_rating', 'review_scores_accuracy',\n       'review_scores_cleanliness', 'review_scores_checkin',\n       'review_scores_communication', 'review_scores_location',\n       'review_scores_value', 'calculated_host_listings_count',\n       'reviews_per_month'],\n      dtype='object')"
     },
     "execution_count": 64,
     "metadata": {},
     "output_type": "execute_result"
    }
   ]
  },
  {
   "cell_type": "code",
   "execution_count": 65,
   "outputs": [
    {
     "data": {
      "text/plain": "Index(['host_since', 'host_location', 'host_response_time',\n       'host_response_rate', 'host_acceptance_rate', 'host_is_superhost',\n       'host_neighbourhood', 'host_verifications', 'host_has_profile_pic',\n       'host_identity_verified', 'street', 'neighbourhood_cleansed',\n       'neighbourhood_group_cleansed', 'city', 'state', 'zipcode', 'market',\n       'smart_location', 'country_code', 'country', 'is_location_exact',\n       'property_type', 'room_type', 'bed_type', 'amenities', 'price',\n       'weekly_price', 'monthly_price', 'security_deposit', 'cleaning_fee',\n       'extra_people', 'calendar_updated', 'has_availability',\n       'calendar_last_scraped', 'first_review', 'last_review',\n       'requires_license', 'jurisdiction_names', 'instant_bookable',\n       'cancellation_policy', 'require_guest_profile_picture',\n       'require_guest_phone_verification'],\n      dtype='object')"
     },
     "execution_count": 65,
     "metadata": {},
     "output_type": "execute_result"
    }
   ],
   "source": [
    "categorical_columns = listings_data.select_dtypes(include=['object']).columns\n",
    "categorical_columns"
   ],
   "metadata": {
    "collapsed": false,
    "pycharm": {
     "name": "#%%\n"
    }
   }
  },
  {
   "cell_type": "markdown",
   "source": [
    "One of the interesting things here is that some of these categorical columns look like they should be numeric.\n",
    "For instance, `price`, `weekly_price`, `monthly_price`, `security_deposit`, `extra_people`, and `cleaning_fee` seem like\n",
    "they should be numerical values.  However, pandas has recorded them as \"object\" because they contain dollar signs,\n",
    "as well as commas, as seen below."
   ],
   "metadata": {
    "collapsed": false,
    "pycharm": {
     "name": "#%% md\n"
    }
   }
  },
  {
   "cell_type": "code",
   "execution_count": 66,
   "outputs": [
    {
     "data": {
      "text/plain": "            price weekly_price monthly_price security_deposit cleaning_fee  \\\nid                                                                           \n12147973  $250.00          NaN           NaN              NaN       $35.00   \n3075044    $65.00      $400.00           NaN           $95.00       $10.00   \n6976       $65.00      $395.00     $1,350.00              NaN          NaN   \n1436513    $75.00          NaN           NaN          $100.00       $50.00   \n7651065    $79.00          NaN           NaN              NaN       $15.00   \n\n         extra_people  \nid                     \n12147973        $0.00  \n3075044         $0.00  \n6976           $20.00  \n1436513        $25.00  \n7651065         $0.00  ",
      "text/html": "<div>\n<style scoped>\n    .dataframe tbody tr th:only-of-type {\n        vertical-align: middle;\n    }\n\n    .dataframe tbody tr th {\n        vertical-align: top;\n    }\n\n    .dataframe thead th {\n        text-align: right;\n    }\n</style>\n<table border=\"1\" class=\"dataframe\">\n  <thead>\n    <tr style=\"text-align: right;\">\n      <th></th>\n      <th>price</th>\n      <th>weekly_price</th>\n      <th>monthly_price</th>\n      <th>security_deposit</th>\n      <th>cleaning_fee</th>\n      <th>extra_people</th>\n    </tr>\n    <tr>\n      <th>id</th>\n      <th></th>\n      <th></th>\n      <th></th>\n      <th></th>\n      <th></th>\n      <th></th>\n    </tr>\n  </thead>\n  <tbody>\n    <tr>\n      <th>12147973</th>\n      <td>$250.00</td>\n      <td>NaN</td>\n      <td>NaN</td>\n      <td>NaN</td>\n      <td>$35.00</td>\n      <td>$0.00</td>\n    </tr>\n    <tr>\n      <th>3075044</th>\n      <td>$65.00</td>\n      <td>$400.00</td>\n      <td>NaN</td>\n      <td>$95.00</td>\n      <td>$10.00</td>\n      <td>$0.00</td>\n    </tr>\n    <tr>\n      <th>6976</th>\n      <td>$65.00</td>\n      <td>$395.00</td>\n      <td>$1,350.00</td>\n      <td>NaN</td>\n      <td>NaN</td>\n      <td>$20.00</td>\n    </tr>\n    <tr>\n      <th>1436513</th>\n      <td>$75.00</td>\n      <td>NaN</td>\n      <td>NaN</td>\n      <td>$100.00</td>\n      <td>$50.00</td>\n      <td>$25.00</td>\n    </tr>\n    <tr>\n      <th>7651065</th>\n      <td>$79.00</td>\n      <td>NaN</td>\n      <td>NaN</td>\n      <td>NaN</td>\n      <td>$15.00</td>\n      <td>$0.00</td>\n    </tr>\n  </tbody>\n</table>\n</div>"
     },
     "execution_count": 66,
     "metadata": {},
     "output_type": "execute_result"
    }
   ],
   "source": [
    "price_columns = ['price', 'weekly_price', 'monthly_price', 'security_deposit', 'cleaning_fee', 'extra_people']\n",
    "listings_data[price_columns].head()"
   ],
   "metadata": {
    "collapsed": false,
    "pycharm": {
     "name": "#%%\n"
    }
   }
  },
  {
   "cell_type": "markdown",
   "source": [
    "Let's convert those to floats, to make them more reasonable to work with"
   ],
   "metadata": {
    "collapsed": false,
    "pycharm": {
     "name": "#%% md\n"
    }
   }
  },
  {
   "cell_type": "code",
   "execution_count": 67,
   "outputs": [
    {
     "data": {
      "text/plain": "          price  weekly_price  monthly_price  security_deposit  cleaning_fee  \\\nid                                                                             \n12147973  250.0           NaN            NaN               NaN          35.0   \n3075044    65.0         400.0            NaN              95.0          10.0   \n6976       65.0         395.0         1350.0               NaN           NaN   \n1436513    75.0           NaN            NaN             100.0          50.0   \n7651065    79.0           NaN            NaN               NaN          15.0   \n\n          extra_people  \nid                      \n12147973           0.0  \n3075044            0.0  \n6976              20.0  \n1436513           25.0  \n7651065            0.0  ",
      "text/html": "<div>\n<style scoped>\n    .dataframe tbody tr th:only-of-type {\n        vertical-align: middle;\n    }\n\n    .dataframe tbody tr th {\n        vertical-align: top;\n    }\n\n    .dataframe thead th {\n        text-align: right;\n    }\n</style>\n<table border=\"1\" class=\"dataframe\">\n  <thead>\n    <tr style=\"text-align: right;\">\n      <th></th>\n      <th>price</th>\n      <th>weekly_price</th>\n      <th>monthly_price</th>\n      <th>security_deposit</th>\n      <th>cleaning_fee</th>\n      <th>extra_people</th>\n    </tr>\n    <tr>\n      <th>id</th>\n      <th></th>\n      <th></th>\n      <th></th>\n      <th></th>\n      <th></th>\n      <th></th>\n    </tr>\n  </thead>\n  <tbody>\n    <tr>\n      <th>12147973</th>\n      <td>250.0</td>\n      <td>NaN</td>\n      <td>NaN</td>\n      <td>NaN</td>\n      <td>35.0</td>\n      <td>0.0</td>\n    </tr>\n    <tr>\n      <th>3075044</th>\n      <td>65.0</td>\n      <td>400.0</td>\n      <td>NaN</td>\n      <td>95.0</td>\n      <td>10.0</td>\n      <td>0.0</td>\n    </tr>\n    <tr>\n      <th>6976</th>\n      <td>65.0</td>\n      <td>395.0</td>\n      <td>1350.0</td>\n      <td>NaN</td>\n      <td>NaN</td>\n      <td>20.0</td>\n    </tr>\n    <tr>\n      <th>1436513</th>\n      <td>75.0</td>\n      <td>NaN</td>\n      <td>NaN</td>\n      <td>100.0</td>\n      <td>50.0</td>\n      <td>25.0</td>\n    </tr>\n    <tr>\n      <th>7651065</th>\n      <td>79.0</td>\n      <td>NaN</td>\n      <td>NaN</td>\n      <td>NaN</td>\n      <td>15.0</td>\n      <td>0.0</td>\n    </tr>\n  </tbody>\n</table>\n</div>"
     },
     "execution_count": 67,
     "metadata": {},
     "output_type": "execute_result"
    }
   ],
   "source": [
    "for column_name in price_columns:\n",
    "    listings_data[column_name] = listings_data[column_name].replace('[^.0-9]', '', regex=True).astype(float)\n",
    "listings_data[price_columns].head()"
   ],
   "metadata": {
    "collapsed": false,
    "pycharm": {
     "name": "#%%\n"
    }
   }
  },
  {
   "cell_type": "markdown",
   "source": [
    "While we're at it, let's do the same thing for `price` in `calendar_data.csv`"
   ],
   "metadata": {
    "collapsed": false,
    "pycharm": {
     "name": "#%% md\n"
    }
   }
  },
  {
   "cell_type": "code",
   "execution_count": 68,
   "outputs": [
    {
     "data": {
      "text/plain": "   listing_id        date available  price\n0    12147973  2017-09-05         f    NaN\n1    12147973  2017-09-04         f    NaN\n2    12147973  2017-09-03         f    NaN\n3    12147973  2017-09-02         f    NaN\n4    12147973  2017-09-01         f    NaN",
      "text/html": "<div>\n<style scoped>\n    .dataframe tbody tr th:only-of-type {\n        vertical-align: middle;\n    }\n\n    .dataframe tbody tr th {\n        vertical-align: top;\n    }\n\n    .dataframe thead th {\n        text-align: right;\n    }\n</style>\n<table border=\"1\" class=\"dataframe\">\n  <thead>\n    <tr style=\"text-align: right;\">\n      <th></th>\n      <th>listing_id</th>\n      <th>date</th>\n      <th>available</th>\n      <th>price</th>\n    </tr>\n  </thead>\n  <tbody>\n    <tr>\n      <th>0</th>\n      <td>12147973</td>\n      <td>2017-09-05</td>\n      <td>f</td>\n      <td>NaN</td>\n    </tr>\n    <tr>\n      <th>1</th>\n      <td>12147973</td>\n      <td>2017-09-04</td>\n      <td>f</td>\n      <td>NaN</td>\n    </tr>\n    <tr>\n      <th>2</th>\n      <td>12147973</td>\n      <td>2017-09-03</td>\n      <td>f</td>\n      <td>NaN</td>\n    </tr>\n    <tr>\n      <th>3</th>\n      <td>12147973</td>\n      <td>2017-09-02</td>\n      <td>f</td>\n      <td>NaN</td>\n    </tr>\n    <tr>\n      <th>4</th>\n      <td>12147973</td>\n      <td>2017-09-01</td>\n      <td>f</td>\n      <td>NaN</td>\n    </tr>\n  </tbody>\n</table>\n</div>"
     },
     "execution_count": 68,
     "metadata": {},
     "output_type": "execute_result"
    }
   ],
   "source": [
    "\n",
    "calendar_data['price'] = calendar_data['price'].replace('[^.0-9]', '', regex=True).astype(float)\n",
    "calendar_data.head()"
   ],
   "metadata": {
    "collapsed": false,
    "pycharm": {
     "name": "#%%\n"
    }
   }
  },
  {
   "cell_type": "markdown",
   "source": [
    "However, we also see that `host_acceptance_rate` and `host_response_rate` have the same issue:"
   ],
   "metadata": {
    "collapsed": false,
    "pycharm": {
     "name": "#%% md\n"
    }
   }
  },
  {
   "cell_type": "code",
   "execution_count": 69,
   "outputs": [
    {
     "data": {
      "text/plain": "array([nan, '100%', '88%', '50%', '95%', '96%', '89%', '97%', '79%',\n       '94%', '63%', '92%', '71%', '83%', '91%', '67%', '73%', '85%',\n       '93%', '60%', '25%', '75%', '56%', '0%', '76%', '57%', '74%',\n       '82%', '62%', '90%', '69%', '77%', '33%', '58%', '78%', '81%',\n       '17%', '86%', '20%', '70%', '80%', '72%', '98%', '45%', '55%',\n       '68%', '42%', '30%', '99%', '36%', '84%', '19%', '61%', '29%',\n       '87%', '66%', '54%', '65%', '64%', '51%', '43%', '23%', '40%',\n       '48%', '47%', '52%', '28%', '18%', '46%', '59%', '44%', '38%',\n       '53%'], dtype=object)"
     },
     "execution_count": 69,
     "metadata": {},
     "output_type": "execute_result"
    }
   ],
   "source": [
    "listings_data['host_acceptance_rate'].unique()"
   ],
   "metadata": {
    "collapsed": false,
    "pycharm": {
     "name": "#%%\n"
    }
   }
  },
  {
   "cell_type": "code",
   "execution_count": 70,
   "outputs": [
    {
     "data": {
      "text/plain": "array([nan, '100%', '98%', '83%', '75%', '60%', '95%', '77%', '90%',\n       '50%', '93%', '70%', '71%', '36%', '73%', '67%', '33%', '78%',\n       '86%', '80%', '96%', '40%', '0%', '94%', '92%', '97%', '89%',\n       '88%', '31%', '91%', '81%', '99%', '85%', '69%', '56%', '30%',\n       '68%', '82%', '17%', '14%', '38%', '63%', '43%', '19%', '79%',\n       '61%', '57%', '84%', '25%', '20%', '6%', '10%', '58%', '76%',\n       '64%', '87%', '53%', '65%', '55%'], dtype=object)"
     },
     "execution_count": 70,
     "metadata": {},
     "output_type": "execute_result"
    }
   ],
   "source": [
    "listings_data['host_response_rate'].unique()"
   ],
   "metadata": {
    "collapsed": false,
    "pycharm": {
     "name": "#%%\n"
    }
   }
  },
  {
   "cell_type": "markdown",
   "source": [
    "Let's go ahead and convert these to floats as well"
   ],
   "metadata": {
    "collapsed": false,
    "pycharm": {
     "name": "#%% md\n"
    }
   }
  },
  {
   "cell_type": "code",
   "execution_count": 71,
   "outputs": [
    {
     "data": {
      "text/plain": "array([ nan, 1.  , 0.88, 0.5 , 0.95, 0.96, 0.89, 0.97, 0.79, 0.94, 0.63,\n       0.92, 0.71, 0.83, 0.91, 0.67, 0.73, 0.85, 0.93, 0.6 , 0.25, 0.75,\n       0.56, 0.  , 0.76, 0.57, 0.74, 0.82, 0.62, 0.9 , 0.69, 0.77, 0.33,\n       0.58, 0.78, 0.81, 0.17, 0.86, 0.2 , 0.7 , 0.8 , 0.72, 0.98, 0.45,\n       0.55, 0.68, 0.42, 0.3 , 0.99, 0.36, 0.84, 0.19, 0.61, 0.29, 0.87,\n       0.66, 0.54, 0.65, 0.64, 0.51, 0.43, 0.23, 0.4 , 0.48, 0.47, 0.52,\n       0.28, 0.18, 0.46, 0.59, 0.44, 0.38, 0.53])"
     },
     "execution_count": 71,
     "metadata": {},
     "output_type": "execute_result"
    }
   ],
   "source": [
    "percent_columns = ['host_acceptance_rate', 'host_response_rate']\n",
    "\n",
    "for column_name in percent_columns:\n",
    "    listings_data[column_name] = listings_data[column_name].str.rstrip('%').astype(float) / 100\n",
    "\n",
    "listings_data['host_acceptance_rate'].unique()"
   ],
   "metadata": {
    "collapsed": false,
    "pycharm": {
     "name": "#%%\n"
    }
   }
  },
  {
   "cell_type": "code",
   "execution_count": 72,
   "outputs": [
    {
     "data": {
      "text/plain": "array([ nan, 1.  , 0.98, 0.83, 0.75, 0.6 , 0.95, 0.77, 0.9 , 0.5 , 0.93,\n       0.7 , 0.71, 0.36, 0.73, 0.67, 0.33, 0.78, 0.86, 0.8 , 0.96, 0.4 ,\n       0.  , 0.94, 0.92, 0.97, 0.89, 0.88, 0.31, 0.91, 0.81, 0.99, 0.85,\n       0.69, 0.56, 0.3 , 0.68, 0.82, 0.17, 0.14, 0.38, 0.63, 0.43, 0.19,\n       0.79, 0.61, 0.57, 0.84, 0.25, 0.2 , 0.06, 0.1 , 0.58, 0.76, 0.64,\n       0.87, 0.53, 0.65, 0.55])"
     },
     "execution_count": 72,
     "metadata": {},
     "output_type": "execute_result"
    }
   ],
   "source": [
    "listings_data['host_response_rate'].unique()"
   ],
   "metadata": {
    "collapsed": false,
    "pycharm": {
     "name": "#%%\n"
    }
   }
  },
  {
   "cell_type": "markdown",
   "source": [
    "We see now that these columns have been turned into floats.\n",
    "\n",
    "Less obviously, there could be an argument that `bathrooms`, `bedrooms`, `beds`, `guests_included`, `minimum_nights`,\n",
    "and `maximum_nights` despite always containing numbers, should be considered categorical, as each variable takes\n",
    "relatively few distinct values.  On the other side, these numeric values to give rise to a natural ordering.\n",
    "\n",
    "But for simplicity, for now I will leave them as numerical.\n",
    "\n",
    "\n",
    "So with that said, let's re-group the numeric and categorical columns"
   ],
   "metadata": {
    "collapsed": false,
    "pycharm": {
     "name": "#%% md\n"
    }
   }
  },
  {
   "cell_type": "code",
   "execution_count": 73,
   "outputs": [
    {
     "data": {
      "text/plain": "Index(['host_response_rate', 'host_acceptance_rate', 'accommodates',\n       'bathrooms', 'bedrooms', 'beds', 'price', 'weekly_price',\n       'monthly_price', 'security_deposit', 'cleaning_fee', 'guests_included',\n       'extra_people', 'minimum_nights', 'maximum_nights', 'availability_30',\n       'availability_60', 'availability_90', 'availability_365',\n       'number_of_reviews', 'review_scores_rating', 'review_scores_accuracy',\n       'review_scores_cleanliness', 'review_scores_checkin',\n       'review_scores_communication', 'review_scores_location',\n       'review_scores_value', 'calculated_host_listings_count',\n       'reviews_per_month'],\n      dtype='object')"
     },
     "execution_count": 73,
     "metadata": {},
     "output_type": "execute_result"
    }
   ],
   "source": [
    "numeric_columns = listings_data.select_dtypes(include=['int', 'float']).columns\n",
    "numeric_columns"
   ],
   "metadata": {
    "collapsed": false,
    "pycharm": {
     "name": "#%%\n"
    }
   }
  },
  {
   "cell_type": "code",
   "execution_count": 74,
   "outputs": [
    {
     "data": {
      "text/plain": "Index(['host_since', 'host_location', 'host_response_time',\n       'host_is_superhost', 'host_neighbourhood', 'host_verifications',\n       'host_has_profile_pic', 'host_identity_verified', 'street',\n       'neighbourhood_cleansed', 'neighbourhood_group_cleansed', 'city',\n       'state', 'zipcode', 'market', 'smart_location', 'country_code',\n       'country', 'is_location_exact', 'property_type', 'room_type',\n       'bed_type', 'amenities', 'calendar_updated', 'has_availability',\n       'calendar_last_scraped', 'first_review', 'last_review',\n       'requires_license', 'jurisdiction_names', 'instant_bookable',\n       'cancellation_policy', 'require_guest_profile_picture',\n       'require_guest_phone_verification'],\n      dtype='object')"
     },
     "execution_count": 74,
     "metadata": {},
     "output_type": "execute_result"
    }
   ],
   "source": [
    "categorical_columns = listings_data.select_dtypes(include=['object']).columns\n",
    "categorical_columns"
   ],
   "metadata": {
    "collapsed": false,
    "pycharm": {
     "name": "#%%\n"
    }
   }
  },
  {
   "cell_type": "markdown",
   "source": [
    "#### Investigating NA\n",
    "\n",
    "Now, for each numeric column, let's see now many NA values we are dealing with"
   ],
   "metadata": {
    "collapsed": false,
    "pycharm": {
     "name": "#%% md\n"
    }
   }
  },
  {
   "cell_type": "code",
   "execution_count": 75,
   "outputs": [
    {
     "name": "stdout",
     "output_type": "stream",
     "text": [
      "host_response_rate: 0.8655564581640942\n",
      "host_acceptance_rate: 0.8317086379637152\n",
      "accommodates: 1.0\n",
      "bathrooms: 0.9959382615759546\n",
      "bedrooms: 0.9978337395071757\n",
      "beds: 0.9986460871919849\n",
      "price: 1.0\n",
      "weekly_price: 0.39277010560519904\n",
      "monthly_price: 0.3256160303276469\n",
      "security_deposit: 0.43365827240725696\n",
      "cleaning_fee: 0.711075006769564\n",
      "guests_included: 1.0\n",
      "extra_people: 1.0\n",
      "minimum_nights: 1.0\n",
      "maximum_nights: 1.0\n",
      "availability_30: 1.0\n",
      "availability_60: 1.0\n",
      "availability_90: 1.0\n",
      "availability_365: 1.0\n",
      "number_of_reviews: 1.0\n",
      "review_scores_rating: 0.8035472515569997\n",
      "review_scores_accuracy: 0.8007040346601679\n",
      "review_scores_cleanliness: 0.802057947468183\n",
      "review_scores_checkin: 0.8011102085025724\n",
      "review_scores_communication: 0.8023287300297861\n",
      "review_scores_location: 0.801245599783374\n",
      "review_scores_value: 0.801245599783374\n",
      "calculated_host_listings_count: 1.0\n",
      "reviews_per_month: 0.8139723801787165\n"
     ]
    }
   ],
   "source": [
    "for column_name in numeric_columns:\n",
    "    print(\"{0}: {1}\".format(column_name, listings_data[column_name].count() / listings_data.shape[0]))"
   ],
   "metadata": {
    "collapsed": false,
    "pycharm": {
     "name": "#%%\n"
    }
   }
  },
  {
   "cell_type": "markdown",
   "source": [
    "For most of these columns, it seems like the value is available for most rows.  The exception are the `_price` and\n",
    "`security_deposit` columns.  It doesn't seem right to try to impute value for these, however, given how variable price\n",
    "could be.\n",
    "\n",
    "We are probably better off dropping these columns when attempting to do a regression.  So let's do this:"
   ],
   "metadata": {
    "collapsed": false
   }
  },
  {
   "cell_type": "code",
   "execution_count": 76,
   "outputs": [],
   "source": [
    "numeric_columns = list(set(numeric_columns) - set(['weekly_price', 'monthly_price', 'security_deposit', 'cleaning_fee']))"
   ],
   "metadata": {
    "collapsed": false,
    "pycharm": {
     "name": "#%%\n"
    }
   }
  },
  {
   "cell_type": "markdown",
   "source": [
    "\n",
    "Let's do the same for the categorical columns"
   ],
   "metadata": {
    "collapsed": false,
    "pycharm": {
     "name": "#%% md\n"
    }
   }
  },
  {
   "cell_type": "code",
   "execution_count": 77,
   "outputs": [
    {
     "name": "stdout",
     "output_type": "stream",
     "text": [
      "host_since: 0.9997292174383969\n",
      "host_location: 0.9974275656647712\n",
      "host_response_time: 0.8655564581640942\n",
      "host_is_superhost: 0.9997292174383969\n",
      "host_neighbourhood: 0.913484971567831\n",
      "host_verifications: 1.0\n",
      "host_has_profile_pic: 0.9997292174383969\n",
      "host_identity_verified: 0.9997292174383969\n",
      "street: 1.0\n",
      "neighbourhood_cleansed: 1.0\n",
      "neighbourhood_group_cleansed: 0.5169239101001896\n",
      "city: 0.9997292174383969\n",
      "state: 1.0\n",
      "zipcode: 0.9939073923639318\n",
      "market: 1.0\n",
      "smart_location: 1.0\n",
      "country_code: 1.0\n",
      "country: 1.0\n",
      "is_location_exact: 1.0\n",
      "property_type: 0.999458434876794\n",
      "room_type: 1.0\n",
      "bed_type: 1.0\n",
      "amenities: 1.0\n",
      "calendar_updated: 1.0\n",
      "has_availability: 0.5169239101001896\n",
      "calendar_last_scraped: 1.0\n",
      "first_review: 0.8139723801787165\n",
      "last_review: 0.8139723801787165\n",
      "requires_license: 1.0\n",
      "jurisdiction_names: 0.5169239101001896\n",
      "instant_bookable: 1.0\n",
      "cancellation_policy: 1.0\n",
      "require_guest_profile_picture: 1.0\n",
      "require_guest_phone_verification: 1.0\n"
     ]
    }
   ],
   "source": [
    "for column_name in categorical_columns:\n",
    "    print(\"{0}: {1}\".format(column_name, listings_data[column_name].count() / listings_data.shape[0]))\n"
   ],
   "metadata": {
    "collapsed": false,
    "pycharm": {
     "name": "#%%\n"
    }
   }
  },
  {
   "cell_type": "markdown",
   "source": [
    "Most of these columns are available for most listings.  The exceptions are `jurisdiction_names` and\n",
    "`neighbourhood_group_cleansed` (oddly, these are _exactly_ the same percentage, so it's likely that one is a computation\n",
    "from the other).\n",
    "\n",
    "Note that for _categorical_ columns, NA are a little less problematic: we can just add \"NA\" as one of the \"dummies\";\n",
    "in this way the model can treat \"NA\" as a value without trying to impute it or having to ignore it altogether.\n",
    "\n",
    "Speaking of which, let's make the dummies now\n",
    "\n",
    "#### Making dummies"
   ],
   "metadata": {
    "collapsed": false,
    "pycharm": {
     "name": "#%% md\n"
    }
   }
  },
  {
   "cell_type": "code",
   "execution_count": 78,
   "outputs": [
    {
     "data": {
      "text/plain": "          review_scores_cleanliness  beds  number_of_reviews  bedrooms  \\\nid                                                                       \n12147973                        NaN   3.0                  0       2.0   \n3075044                         9.0   1.0                 36       1.0   \n6976                            9.0   1.0                 41       1.0   \n1436513                        10.0   2.0                  1       1.0   \n7651065                        10.0   2.0                 29       1.0   \n\n          availability_60  host_response_rate  review_scores_checkin  \\\nid                                                                     \n12147973                0                 NaN                    NaN   \n3075044                54                 1.0                   10.0   \n6976                   46                 1.0                   10.0   \n1436513                16                 1.0                   10.0   \n7651065                34                 1.0                   10.0   \n\n          maximum_nights  availability_30  availability_365  ...  \\\nid                                                           ...   \n12147973            1125                0                 0  ...   \n3075044               15               26               359  ...   \n6976                  45               19               319  ...   \n1436513             1125                6                98  ...   \n7651065               31               13               334  ...   \n\n          instant_bookable_t  instant_bookable_nan  \\\nid                                                   \n12147973                   0                     0   \n3075044                    1                     0   \n6976                       0                     0   \n1436513                    0                     0   \n7651065                    0                     0   \n\n          cancellation_policy_moderate  cancellation_policy_strict  \\\nid                                                                   \n12147973                             1                           0   \n3075044                              1                           0   \n6976                                 1                           0   \n1436513                              1                           0   \n7651065                              0                           0   \n\n          cancellation_policy_super_strict_30  cancellation_policy_nan  \\\nid                                                                       \n12147973                                    0                        0   \n3075044                                     0                        0   \n6976                                        0                        0   \n1436513                                     0                        0   \n7651065                                     0                        0   \n\n          require_guest_profile_picture_t  require_guest_profile_picture_nan  \\\nid                                                                             \n12147973                                0                                  0   \n3075044                                 0                                  0   \n6976                                    1                                  0   \n1436513                                 0                                  0   \n7651065                                 0                                  0   \n\n          require_guest_phone_verification_t  \\\nid                                             \n12147973                                   0   \n3075044                                    0   \n6976                                       0   \n1436513                                    0   \n7651065                                    0   \n\n          require_guest_phone_verification_nan  \nid                                              \n12147973                                     0  \n3075044                                      0  \n6976                                         0  \n1436513                                      0  \n7651065                                      0  \n\n[5 rows x 13799 columns]",
      "text/html": "<div>\n<style scoped>\n    .dataframe tbody tr th:only-of-type {\n        vertical-align: middle;\n    }\n\n    .dataframe tbody tr th {\n        vertical-align: top;\n    }\n\n    .dataframe thead th {\n        text-align: right;\n    }\n</style>\n<table border=\"1\" class=\"dataframe\">\n  <thead>\n    <tr style=\"text-align: right;\">\n      <th></th>\n      <th>review_scores_cleanliness</th>\n      <th>beds</th>\n      <th>number_of_reviews</th>\n      <th>bedrooms</th>\n      <th>availability_60</th>\n      <th>host_response_rate</th>\n      <th>review_scores_checkin</th>\n      <th>maximum_nights</th>\n      <th>availability_30</th>\n      <th>availability_365</th>\n      <th>...</th>\n      <th>instant_bookable_t</th>\n      <th>instant_bookable_nan</th>\n      <th>cancellation_policy_moderate</th>\n      <th>cancellation_policy_strict</th>\n      <th>cancellation_policy_super_strict_30</th>\n      <th>cancellation_policy_nan</th>\n      <th>require_guest_profile_picture_t</th>\n      <th>require_guest_profile_picture_nan</th>\n      <th>require_guest_phone_verification_t</th>\n      <th>require_guest_phone_verification_nan</th>\n    </tr>\n    <tr>\n      <th>id</th>\n      <th></th>\n      <th></th>\n      <th></th>\n      <th></th>\n      <th></th>\n      <th></th>\n      <th></th>\n      <th></th>\n      <th></th>\n      <th></th>\n      <th></th>\n      <th></th>\n      <th></th>\n      <th></th>\n      <th></th>\n      <th></th>\n      <th></th>\n      <th></th>\n      <th></th>\n      <th></th>\n      <th></th>\n    </tr>\n  </thead>\n  <tbody>\n    <tr>\n      <th>12147973</th>\n      <td>NaN</td>\n      <td>3.0</td>\n      <td>0</td>\n      <td>2.0</td>\n      <td>0</td>\n      <td>NaN</td>\n      <td>NaN</td>\n      <td>1125</td>\n      <td>0</td>\n      <td>0</td>\n      <td>...</td>\n      <td>0</td>\n      <td>0</td>\n      <td>1</td>\n      <td>0</td>\n      <td>0</td>\n      <td>0</td>\n      <td>0</td>\n      <td>0</td>\n      <td>0</td>\n      <td>0</td>\n    </tr>\n    <tr>\n      <th>3075044</th>\n      <td>9.0</td>\n      <td>1.0</td>\n      <td>36</td>\n      <td>1.0</td>\n      <td>54</td>\n      <td>1.0</td>\n      <td>10.0</td>\n      <td>15</td>\n      <td>26</td>\n      <td>359</td>\n      <td>...</td>\n      <td>1</td>\n      <td>0</td>\n      <td>1</td>\n      <td>0</td>\n      <td>0</td>\n      <td>0</td>\n      <td>0</td>\n      <td>0</td>\n      <td>0</td>\n      <td>0</td>\n    </tr>\n    <tr>\n      <th>6976</th>\n      <td>9.0</td>\n      <td>1.0</td>\n      <td>41</td>\n      <td>1.0</td>\n      <td>46</td>\n      <td>1.0</td>\n      <td>10.0</td>\n      <td>45</td>\n      <td>19</td>\n      <td>319</td>\n      <td>...</td>\n      <td>0</td>\n      <td>0</td>\n      <td>1</td>\n      <td>0</td>\n      <td>0</td>\n      <td>0</td>\n      <td>1</td>\n      <td>0</td>\n      <td>0</td>\n      <td>0</td>\n    </tr>\n    <tr>\n      <th>1436513</th>\n      <td>10.0</td>\n      <td>2.0</td>\n      <td>1</td>\n      <td>1.0</td>\n      <td>16</td>\n      <td>1.0</td>\n      <td>10.0</td>\n      <td>1125</td>\n      <td>6</td>\n      <td>98</td>\n      <td>...</td>\n      <td>0</td>\n      <td>0</td>\n      <td>1</td>\n      <td>0</td>\n      <td>0</td>\n      <td>0</td>\n      <td>0</td>\n      <td>0</td>\n      <td>0</td>\n      <td>0</td>\n    </tr>\n    <tr>\n      <th>7651065</th>\n      <td>10.0</td>\n      <td>2.0</td>\n      <td>29</td>\n      <td>1.0</td>\n      <td>34</td>\n      <td>1.0</td>\n      <td>10.0</td>\n      <td>31</td>\n      <td>13</td>\n      <td>334</td>\n      <td>...</td>\n      <td>0</td>\n      <td>0</td>\n      <td>0</td>\n      <td>0</td>\n      <td>0</td>\n      <td>0</td>\n      <td>0</td>\n      <td>0</td>\n      <td>0</td>\n      <td>0</td>\n    </tr>\n  </tbody>\n</table>\n<p>5 rows × 13799 columns</p>\n</div>"
     },
     "execution_count": 78,
     "metadata": {},
     "output_type": "execute_result"
    }
   ],
   "source": [
    "dummy_columns = pd.get_dummies(listings_data[categorical_columns], drop_first=True, dummy_na=True)\n",
    "listings_data_with_dummies = pd.concat((listings_data[numeric_columns], dummy_columns), axis=1)\n",
    "listings_data_with_dummies.head()"
   ],
   "metadata": {
    "collapsed": false,
    "pycharm": {
     "name": "#%%\n"
    }
   }
  },
  {
   "cell_type": "markdown",
   "source": [
    "Nearly 14000 columns?  That's no good.  Let's go back to `listings_data` and see how many unique values we have in each\n",
    "categorical column."
   ],
   "metadata": {
    "collapsed": false,
    "pycharm": {
     "name": "#%% md\n"
    }
   }
  },
  {
   "cell_type": "code",
   "execution_count": 79,
   "outputs": [
    {
     "data": {
      "text/plain": "host_since                          1845\nhost_location                        276\nhost_response_time                     4\nhost_is_superhost                      2\nhost_neighbourhood                   151\nhost_verifications                   136\nhost_has_profile_pic                   2\nhost_identity_verified                 2\nstreet                              2679\nneighbourhood_cleansed               111\nneighbourhood_group_cleansed          17\ncity                                  45\nstate                                  3\nzipcode                               71\nmarket                                 2\nsmart_location                        46\ncountry_code                           1\ncountry                                1\nis_location_exact                      2\nproperty_type                         19\nroom_type                              3\nbed_type                               5\namenities                           6294\ncalendar_updated                      38\nhas_availability                       1\ncalendar_last_scraped                  2\nfirst_review                        1423\nlast_review                          581\nrequires_license                       1\njurisdiction_names                     1\ninstant_bookable                       2\ncancellation_policy                    4\nrequire_guest_profile_picture          2\nrequire_guest_phone_verification       2\ndtype: int64"
     },
     "execution_count": 79,
     "metadata": {},
     "output_type": "execute_result"
    }
   ],
   "source": [
    "listings_data[categorical_columns].nunique()"
   ],
   "metadata": {
    "collapsed": false,
    "pycharm": {
     "name": "#%%\n"
    }
   }
  },
  {
   "cell_type": "markdown",
   "source": [
    "We can see a few columns that have way too many distinct values to be particularly useful as dummies.  Let's go ahead\n",
    "and drop some of these and try again.  There's no hard-and-fast rule I'm using here.  It's sort of a balance between\n",
    "what has way too many distinct values and what looks apt be useful or not useful.  Also, categorical entries with\n",
    "many distinct values can have high weights in our model, but will not be statistically significant because so few\n",
    "entries will have any given value."
   ],
   "metadata": {
    "collapsed": false,
    "pycharm": {
     "name": "#%% md\n"
    }
   }
  },
  {
   "cell_type": "code",
   "execution_count": 80,
   "outputs": [
    {
     "data": {
      "text/plain": "          review_scores_cleanliness  beds  number_of_reviews  bedrooms  \\\nid                                                                       \n12147973                        NaN   3.0                  0       2.0   \n3075044                         9.0   1.0                 36       1.0   \n6976                            9.0   1.0                 41       1.0   \n1436513                        10.0   2.0                  1       1.0   \n7651065                        10.0   2.0                 29       1.0   \n\n          availability_60  host_response_rate  review_scores_checkin  \\\nid                                                                     \n12147973                0                 NaN                    NaN   \n3075044                54                 1.0                   10.0   \n6976                   46                 1.0                   10.0   \n1436513                16                 1.0                   10.0   \n7651065                34                 1.0                   10.0   \n\n          maximum_nights  availability_30  availability_365  ...  \\\nid                                                           ...   \n12147973            1125                0                 0  ...   \n3075044               15               26               359  ...   \n6976                  45               19               319  ...   \n1436513             1125                6                98  ...   \n7651065               31               13               334  ...   \n\n          bed_type_Couch  bed_type_Futon  bed_type_Pull-out Sofa  \\\nid                                                                 \n12147973               0               0                       0   \n3075044                0               0                       0   \n6976                   0               0                       0   \n1436513                0               0                       0   \n7651065                0               0                       0   \n\n          bed_type_Real Bed  bed_type_nan  jurisdiction_names_nan  \\\nid                                                                  \n12147973                  1             0                       1   \n3075044                   1             0                       1   \n6976                      1             0                       1   \n1436513                   1             0                       1   \n7651065                   1             0                       1   \n\n          room_type_Private room  room_type_Shared room  room_type_nan  \\\nid                                                                       \n12147973                       0                      0              0   \n3075044                        1                      0              0   \n6976                           1                      0              0   \n1436513                        1                      0              0   \n7651065                        1                      0              0   \n\n          country_code_nan  \nid                          \n12147973                 0  \n3075044                  0  \n6976                     0  \n1436513                  0  \n7651065                  0  \n\n[5 rows x 83 columns]",
      "text/html": "<div>\n<style scoped>\n    .dataframe tbody tr th:only-of-type {\n        vertical-align: middle;\n    }\n\n    .dataframe tbody tr th {\n        vertical-align: top;\n    }\n\n    .dataframe thead th {\n        text-align: right;\n    }\n</style>\n<table border=\"1\" class=\"dataframe\">\n  <thead>\n    <tr style=\"text-align: right;\">\n      <th></th>\n      <th>review_scores_cleanliness</th>\n      <th>beds</th>\n      <th>number_of_reviews</th>\n      <th>bedrooms</th>\n      <th>availability_60</th>\n      <th>host_response_rate</th>\n      <th>review_scores_checkin</th>\n      <th>maximum_nights</th>\n      <th>availability_30</th>\n      <th>availability_365</th>\n      <th>...</th>\n      <th>bed_type_Couch</th>\n      <th>bed_type_Futon</th>\n      <th>bed_type_Pull-out Sofa</th>\n      <th>bed_type_Real Bed</th>\n      <th>bed_type_nan</th>\n      <th>jurisdiction_names_nan</th>\n      <th>room_type_Private room</th>\n      <th>room_type_Shared room</th>\n      <th>room_type_nan</th>\n      <th>country_code_nan</th>\n    </tr>\n    <tr>\n      <th>id</th>\n      <th></th>\n      <th></th>\n      <th></th>\n      <th></th>\n      <th></th>\n      <th></th>\n      <th></th>\n      <th></th>\n      <th></th>\n      <th></th>\n      <th></th>\n      <th></th>\n      <th></th>\n      <th></th>\n      <th></th>\n      <th></th>\n      <th></th>\n      <th></th>\n      <th></th>\n      <th></th>\n      <th></th>\n    </tr>\n  </thead>\n  <tbody>\n    <tr>\n      <th>12147973</th>\n      <td>NaN</td>\n      <td>3.0</td>\n      <td>0</td>\n      <td>2.0</td>\n      <td>0</td>\n      <td>NaN</td>\n      <td>NaN</td>\n      <td>1125</td>\n      <td>0</td>\n      <td>0</td>\n      <td>...</td>\n      <td>0</td>\n      <td>0</td>\n      <td>0</td>\n      <td>1</td>\n      <td>0</td>\n      <td>1</td>\n      <td>0</td>\n      <td>0</td>\n      <td>0</td>\n      <td>0</td>\n    </tr>\n    <tr>\n      <th>3075044</th>\n      <td>9.0</td>\n      <td>1.0</td>\n      <td>36</td>\n      <td>1.0</td>\n      <td>54</td>\n      <td>1.0</td>\n      <td>10.0</td>\n      <td>15</td>\n      <td>26</td>\n      <td>359</td>\n      <td>...</td>\n      <td>0</td>\n      <td>0</td>\n      <td>0</td>\n      <td>1</td>\n      <td>0</td>\n      <td>1</td>\n      <td>1</td>\n      <td>0</td>\n      <td>0</td>\n      <td>0</td>\n    </tr>\n    <tr>\n      <th>6976</th>\n      <td>9.0</td>\n      <td>1.0</td>\n      <td>41</td>\n      <td>1.0</td>\n      <td>46</td>\n      <td>1.0</td>\n      <td>10.0</td>\n      <td>45</td>\n      <td>19</td>\n      <td>319</td>\n      <td>...</td>\n      <td>0</td>\n      <td>0</td>\n      <td>0</td>\n      <td>1</td>\n      <td>0</td>\n      <td>1</td>\n      <td>1</td>\n      <td>0</td>\n      <td>0</td>\n      <td>0</td>\n    </tr>\n    <tr>\n      <th>1436513</th>\n      <td>10.0</td>\n      <td>2.0</td>\n      <td>1</td>\n      <td>1.0</td>\n      <td>16</td>\n      <td>1.0</td>\n      <td>10.0</td>\n      <td>1125</td>\n      <td>6</td>\n      <td>98</td>\n      <td>...</td>\n      <td>0</td>\n      <td>0</td>\n      <td>0</td>\n      <td>1</td>\n      <td>0</td>\n      <td>1</td>\n      <td>1</td>\n      <td>0</td>\n      <td>0</td>\n      <td>0</td>\n    </tr>\n    <tr>\n      <th>7651065</th>\n      <td>10.0</td>\n      <td>2.0</td>\n      <td>29</td>\n      <td>1.0</td>\n      <td>34</td>\n      <td>1.0</td>\n      <td>10.0</td>\n      <td>31</td>\n      <td>13</td>\n      <td>334</td>\n      <td>...</td>\n      <td>0</td>\n      <td>0</td>\n      <td>0</td>\n      <td>1</td>\n      <td>0</td>\n      <td>1</td>\n      <td>1</td>\n      <td>0</td>\n      <td>0</td>\n      <td>0</td>\n    </tr>\n  </tbody>\n</table>\n<p>5 rows × 83 columns</p>\n</div>"
     },
     "execution_count": 80,
     "metadata": {},
     "output_type": "execute_result"
    }
   ],
   "source": [
    "categorical_columns_to_drop = [\n",
    "    'host_since',  # too many values\n",
    "    'host_location',  # unlikely to be relevant, and many values\n",
    "    'host_neighbourhood', # perhaps not as likely to be useful\n",
    "    'host_verifications', # uncertain value, lots of distinct values\n",
    "    'smart_location', # subsumed by zipcode\n",
    "    'neighbourhood_cleansed', # too many distinct values\n",
    "    'neighbourhood_group_cleansed', # subsumed by zipcode\n",
    "    'calendar_updated', # many distinct values\n",
    "    'zipcode', # Closely related to neighborhood_cleansed, dicey to have both\n",
    "    'street', # too many distinct values\n",
    "    'city', # subsumed by zipcode\n",
    "    'state', # subsumed by zipcode\n",
    "    'amenities', # too many distinct values. Note that these are json blobs and a \"custom\" dummyizer might work better\n",
    "    'first_review', # too many values, dubious usefulness\n",
    "    'last_review', # same thing\n",
    "]\n",
    "\n",
    "categorical_columns = list(set(categorical_columns) - set(categorical_columns_to_drop))\n",
    "dummy_columns = pd.get_dummies(listings_data[categorical_columns], drop_first=True, dummy_na=True)\n",
    "listings_data_with_dummies = pd.concat((listings_data[numeric_columns], dummy_columns), axis=1)\n",
    "listings_data_with_dummies.head()"
   ],
   "metadata": {
    "collapsed": false,
    "pycharm": {
     "name": "#%%\n"
    }
   }
  },
  {
   "cell_type": "markdown",
   "source": [
    "That's a few hundred columns.  Still a lot, but at least we're at a place where we'll have a better chance of avoiding\n",
    "overfitting.\n",
    "\n",
    "#### Getting the Response Variables\n",
    "\n",
    "For Question 1 (what are the most important factors of a high review rating), we can use the response variable of\n",
    "`review_scores_rating`.  For question 2, `listings.csv` contains a `price` column we can use.  Let's see how often\n",
    "these are reported."
   ],
   "metadata": {
    "collapsed": false,
    "pycharm": {
     "name": "#%% md\n"
    }
   }
  },
  {
   "cell_type": "code",
   "execution_count": 81,
   "outputs": [
    {
     "data": {
      "text/plain": "0.8035472515569997"
     },
     "execution_count": 81,
     "metadata": {},
     "output_type": "execute_result"
    }
   ],
   "source": [
    "listings_data_with_dummies['review_scores_rating'].count() / listings_data_with_dummies.shape[0]"
   ],
   "metadata": {
    "collapsed": false,
    "pycharm": {
     "name": "#%%\n"
    }
   }
  },
  {
   "cell_type": "code",
   "execution_count": 82,
   "outputs": [
    {
     "data": {
      "text/plain": "1.0"
     },
     "execution_count": 82,
     "metadata": {},
     "output_type": "execute_result"
    }
   ],
   "source": [
    "listings_data_with_dummies['price'].count() / listings_data_with_dummies.shape[0]"
   ],
   "metadata": {
    "collapsed": false,
    "pycharm": {
     "name": "#%%\n"
    }
   }
  },
  {
   "cell_type": "markdown",
   "source": [
    "Most (about 80%) of listings have a `review_scores_rating`.  All listings have `price`.  This should be good enough\n",
    "for us."
   ],
   "metadata": {
    "collapsed": false,
    "pycharm": {
     "name": "#%% md\n"
    }
   }
  },
  {
   "cell_type": "markdown",
   "source": [
    "### `calendar.csv`\n",
    "\n",
    "Let's start with a look at the head of the file"
   ],
   "metadata": {
    "collapsed": false,
    "pycharm": {
     "name": "#%% md\n"
    }
   }
  },
  {
   "cell_type": "code",
   "execution_count": 83,
   "outputs": [
    {
     "data": {
      "text/plain": "   listing_id        date available  price\n0    12147973  2017-09-05         f    NaN\n1    12147973  2017-09-04         f    NaN\n2    12147973  2017-09-03         f    NaN\n3    12147973  2017-09-02         f    NaN\n4    12147973  2017-09-01         f    NaN",
      "text/html": "<div>\n<style scoped>\n    .dataframe tbody tr th:only-of-type {\n        vertical-align: middle;\n    }\n\n    .dataframe tbody tr th {\n        vertical-align: top;\n    }\n\n    .dataframe thead th {\n        text-align: right;\n    }\n</style>\n<table border=\"1\" class=\"dataframe\">\n  <thead>\n    <tr style=\"text-align: right;\">\n      <th></th>\n      <th>listing_id</th>\n      <th>date</th>\n      <th>available</th>\n      <th>price</th>\n    </tr>\n  </thead>\n  <tbody>\n    <tr>\n      <th>0</th>\n      <td>12147973</td>\n      <td>2017-09-05</td>\n      <td>f</td>\n      <td>NaN</td>\n    </tr>\n    <tr>\n      <th>1</th>\n      <td>12147973</td>\n      <td>2017-09-04</td>\n      <td>f</td>\n      <td>NaN</td>\n    </tr>\n    <tr>\n      <th>2</th>\n      <td>12147973</td>\n      <td>2017-09-03</td>\n      <td>f</td>\n      <td>NaN</td>\n    </tr>\n    <tr>\n      <th>3</th>\n      <td>12147973</td>\n      <td>2017-09-02</td>\n      <td>f</td>\n      <td>NaN</td>\n    </tr>\n    <tr>\n      <th>4</th>\n      <td>12147973</td>\n      <td>2017-09-01</td>\n      <td>f</td>\n      <td>NaN</td>\n    </tr>\n  </tbody>\n</table>\n</div>"
     },
     "execution_count": 83,
     "metadata": {},
     "output_type": "execute_result"
    }
   ],
   "source": [
    "calendar_data.head()"
   ],
   "metadata": {
    "collapsed": false,
    "pycharm": {
     "name": "#%%\n"
    }
   }
  },
  {
   "cell_type": "markdown",
   "source": [
    "It turns out that `price` is only set when `available is set to `t`:"
   ],
   "metadata": {
    "collapsed": false,
    "pycharm": {
     "name": "#%% md\n"
    }
   }
  },
  {
   "cell_type": "code",
   "execution_count": 84,
   "outputs": [
    {
     "data": {
      "text/plain": "1.0"
     },
     "execution_count": 84,
     "metadata": {},
     "output_type": "execute_result"
    }
   ],
   "source": [
    "available_calendar = calendar_data[calendar_data.available == 't']\n",
    "available_calendar.price.count() / available_calendar.shape[0]"
   ],
   "metadata": {
    "collapsed": false,
    "pycharm": {
     "name": "#%%\n"
    }
   }
  },
  {
   "cell_type": "code",
   "execution_count": 85,
   "outputs": [
    {
     "data": {
      "text/plain": "0.0"
     },
     "execution_count": 85,
     "metadata": {},
     "output_type": "execute_result"
    }
   ],
   "source": [
    "unavailable_calendar = calendar_data[calendar_data.available == 'f']\n",
    "unavailable_calendar.price.count() / unavailable_calendar.shape[0]"
   ],
   "metadata": {
    "collapsed": false,
    "pycharm": {
     "name": "#%%\n"
    }
   }
  },
  {
   "cell_type": "markdown",
   "source": [
    "The `date` column holds a date, but is stored now as a string, let's convert that to datetime"
   ],
   "metadata": {
    "collapsed": false,
    "pycharm": {
     "name": "#%% md\n"
    }
   }
  },
  {
   "cell_type": "code",
   "execution_count": 86,
   "outputs": [
    {
     "data": {
      "text/plain": "listing_id             int64\ndate          datetime64[ns]\navailable             object\nprice                float64\ndtype: object"
     },
     "execution_count": 86,
     "metadata": {},
     "output_type": "execute_result"
    }
   ],
   "source": [
    "calendar_data.date = pd.to_datetime(calendar_data.date, format='%Y-%m-%d')\n",
    "calendar_data.dtypes"
   ],
   "metadata": {
    "collapsed": false,
    "pycharm": {
     "name": "#%%\n"
    }
   }
  },
  {
   "cell_type": "markdown",
   "source": [
    "Now we can easily extract out some interesting components of the date"
   ],
   "metadata": {
    "collapsed": false,
    "pycharm": {
     "name": "#%% md\n"
    }
   }
  },
  {
   "cell_type": "code",
   "execution_count": 87,
   "outputs": [
    {
     "name": "stderr",
     "output_type": "stream",
     "text": [
      "/usr/local/lib/python3.7/site-packages/ipykernel_launcher.py:2: FutureWarning: Series.dt.weekofyear and Series.dt.week have been deprecated.  Please use Series.dt.isocalendar().week instead.\n",
      "  \n"
     ]
    },
    {
     "data": {
      "text/plain": "   listing_id       date available  price  month  week  day   weekday\n0    12147973 2017-09-05         f    NaN      9    36    5   Tuesday\n1    12147973 2017-09-04         f    NaN      9    36    4    Monday\n2    12147973 2017-09-03         f    NaN      9    35    3    Sunday\n3    12147973 2017-09-02         f    NaN      9    35    2  Saturday\n4    12147973 2017-09-01         f    NaN      9    35    1    Friday",
      "text/html": "<div>\n<style scoped>\n    .dataframe tbody tr th:only-of-type {\n        vertical-align: middle;\n    }\n\n    .dataframe tbody tr th {\n        vertical-align: top;\n    }\n\n    .dataframe thead th {\n        text-align: right;\n    }\n</style>\n<table border=\"1\" class=\"dataframe\">\n  <thead>\n    <tr style=\"text-align: right;\">\n      <th></th>\n      <th>listing_id</th>\n      <th>date</th>\n      <th>available</th>\n      <th>price</th>\n      <th>month</th>\n      <th>week</th>\n      <th>day</th>\n      <th>weekday</th>\n    </tr>\n  </thead>\n  <tbody>\n    <tr>\n      <th>0</th>\n      <td>12147973</td>\n      <td>2017-09-05</td>\n      <td>f</td>\n      <td>NaN</td>\n      <td>9</td>\n      <td>36</td>\n      <td>5</td>\n      <td>Tuesday</td>\n    </tr>\n    <tr>\n      <th>1</th>\n      <td>12147973</td>\n      <td>2017-09-04</td>\n      <td>f</td>\n      <td>NaN</td>\n      <td>9</td>\n      <td>36</td>\n      <td>4</td>\n      <td>Monday</td>\n    </tr>\n    <tr>\n      <th>2</th>\n      <td>12147973</td>\n      <td>2017-09-03</td>\n      <td>f</td>\n      <td>NaN</td>\n      <td>9</td>\n      <td>35</td>\n      <td>3</td>\n      <td>Sunday</td>\n    </tr>\n    <tr>\n      <th>3</th>\n      <td>12147973</td>\n      <td>2017-09-02</td>\n      <td>f</td>\n      <td>NaN</td>\n      <td>9</td>\n      <td>35</td>\n      <td>2</td>\n      <td>Saturday</td>\n    </tr>\n    <tr>\n      <th>4</th>\n      <td>12147973</td>\n      <td>2017-09-01</td>\n      <td>f</td>\n      <td>NaN</td>\n      <td>9</td>\n      <td>35</td>\n      <td>1</td>\n      <td>Friday</td>\n    </tr>\n  </tbody>\n</table>\n</div>"
     },
     "execution_count": 87,
     "metadata": {},
     "output_type": "execute_result"
    }
   ],
   "source": [
    "calendar_data['month'] = calendar_data['date'].dt.month\n",
    "calendar_data['week'] = calendar_data['date'].dt.week\n",
    "calendar_data['day'] = calendar_data['date'].dt.day\n",
    "calendar_data['weekday'] = calendar_data['date'].dt.day_name()\n",
    "calendar_data.head()"
   ],
   "metadata": {
    "collapsed": false,
    "pycharm": {
     "name": "#%%\n"
    }
   }
  },
  {
   "cell_type": "markdown",
   "source": [
    "Just as prices were strings (because of the \"$\") in `listing.csv`, the same is\n",
    "true here in `calendar.csv`.  Let's do the same step to turn them into integers."
   ],
   "metadata": {
    "collapsed": false,
    "pycharm": {
     "name": "#%% md\n"
    }
   }
  },
  {
   "cell_type": "code",
   "execution_count": 87,
   "outputs": [],
   "source": [],
   "metadata": {
    "collapsed": false,
    "pycharm": {
     "name": "#%%\n"
    }
   }
  },
  {
   "cell_type": "markdown",
   "source": [
    "To be able to tell on a per-market basis when the highest prices occur, we could have just kept\n",
    " the Seattle and Boston data separate, but now that we've combined them, let's instead have some\n",
    " fun with pandas."
   ],
   "metadata": {
    "collapsed": false,
    "pycharm": {
     "name": "#%% md\n"
    }
   }
  },
  {
   "cell_type": "code",
   "execution_count": 88,
   "outputs": [
    {
     "data": {
      "text/plain": "   listing_id       date available  price  month  week  day   weekday  market\n0    12147973 2017-09-05         f    NaN      9    36    5   Tuesday  Boston\n1    12147973 2017-09-04         f    NaN      9    36    4    Monday  Boston\n2    12147973 2017-09-03         f    NaN      9    35    3    Sunday  Boston\n3    12147973 2017-09-02         f    NaN      9    35    2  Saturday  Boston\n4    12147973 2017-09-01         f    NaN      9    35    1    Friday  Boston",
      "text/html": "<div>\n<style scoped>\n    .dataframe tbody tr th:only-of-type {\n        vertical-align: middle;\n    }\n\n    .dataframe tbody tr th {\n        vertical-align: top;\n    }\n\n    .dataframe thead th {\n        text-align: right;\n    }\n</style>\n<table border=\"1\" class=\"dataframe\">\n  <thead>\n    <tr style=\"text-align: right;\">\n      <th></th>\n      <th>listing_id</th>\n      <th>date</th>\n      <th>available</th>\n      <th>price</th>\n      <th>month</th>\n      <th>week</th>\n      <th>day</th>\n      <th>weekday</th>\n      <th>market</th>\n    </tr>\n  </thead>\n  <tbody>\n    <tr>\n      <th>0</th>\n      <td>12147973</td>\n      <td>2017-09-05</td>\n      <td>f</td>\n      <td>NaN</td>\n      <td>9</td>\n      <td>36</td>\n      <td>5</td>\n      <td>Tuesday</td>\n      <td>Boston</td>\n    </tr>\n    <tr>\n      <th>1</th>\n      <td>12147973</td>\n      <td>2017-09-04</td>\n      <td>f</td>\n      <td>NaN</td>\n      <td>9</td>\n      <td>36</td>\n      <td>4</td>\n      <td>Monday</td>\n      <td>Boston</td>\n    </tr>\n    <tr>\n      <th>2</th>\n      <td>12147973</td>\n      <td>2017-09-03</td>\n      <td>f</td>\n      <td>NaN</td>\n      <td>9</td>\n      <td>35</td>\n      <td>3</td>\n      <td>Sunday</td>\n      <td>Boston</td>\n    </tr>\n    <tr>\n      <th>3</th>\n      <td>12147973</td>\n      <td>2017-09-02</td>\n      <td>f</td>\n      <td>NaN</td>\n      <td>9</td>\n      <td>35</td>\n      <td>2</td>\n      <td>Saturday</td>\n      <td>Boston</td>\n    </tr>\n    <tr>\n      <th>4</th>\n      <td>12147973</td>\n      <td>2017-09-01</td>\n      <td>f</td>\n      <td>NaN</td>\n      <td>9</td>\n      <td>35</td>\n      <td>1</td>\n      <td>Friday</td>\n      <td>Boston</td>\n    </tr>\n  </tbody>\n</table>\n</div>"
     },
     "execution_count": 88,
     "metadata": {},
     "output_type": "execute_result"
    }
   ],
   "source": [
    "listings_with_market_only = listings_data['market']\n",
    "calendar_data = calendar_data.join(listings_with_market_only, 'listing_id')\n",
    "calendar_data.head()"
   ],
   "metadata": {
    "collapsed": false,
    "pycharm": {
     "name": "#%%\n"
    }
   }
  },
  {
   "cell_type": "markdown",
   "source": [
    "Now let's see what we have"
   ],
   "metadata": {
    "collapsed": false
   }
  },
  {
   "cell_type": "code",
   "execution_count": 89,
   "outputs": [
    {
     "data": {
      "text/plain": "listing_id    1.000000\ndate          1.000000\navailable     1.000000\nprice         0.583757\nmonth         1.000000\nweek          1.000000\nday           1.000000\nweekday       1.000000\nmarket        0.997704\ndtype: float64"
     },
     "execution_count": 89,
     "metadata": {},
     "output_type": "execute_result"
    }
   ],
   "source": [
    "calendar_data.count() / calendar_data.shape[0]"
   ],
   "metadata": {
    "collapsed": false,
    "pycharm": {
     "name": "#%%\n"
    }
   }
  },
  {
   "cell_type": "markdown",
   "source": [
    "So we see from the above that every column is filled in all cases, except for `price`, which is\n",
    "filled if (and only if) `available` is set to `t`.  So we have relatively clean data.  To finally clean this up,\n",
    "let's convert `available` to a proper boolean column."
   ],
   "metadata": {
    "collapsed": false,
    "pycharm": {
     "name": "#%% md\n"
    }
   }
  },
  {
   "cell_type": "code",
   "execution_count": 90,
   "outputs": [
    {
     "data": {
      "text/plain": "   listing_id       date  available  price  month  week  day   weekday  market\n0    12147973 2017-09-05      False    NaN      9    36    5   Tuesday  Boston\n1    12147973 2017-09-04      False    NaN      9    36    4    Monday  Boston\n2    12147973 2017-09-03      False    NaN      9    35    3    Sunday  Boston\n3    12147973 2017-09-02      False    NaN      9    35    2  Saturday  Boston\n4    12147973 2017-09-01      False    NaN      9    35    1    Friday  Boston",
      "text/html": "<div>\n<style scoped>\n    .dataframe tbody tr th:only-of-type {\n        vertical-align: middle;\n    }\n\n    .dataframe tbody tr th {\n        vertical-align: top;\n    }\n\n    .dataframe thead th {\n        text-align: right;\n    }\n</style>\n<table border=\"1\" class=\"dataframe\">\n  <thead>\n    <tr style=\"text-align: right;\">\n      <th></th>\n      <th>listing_id</th>\n      <th>date</th>\n      <th>available</th>\n      <th>price</th>\n      <th>month</th>\n      <th>week</th>\n      <th>day</th>\n      <th>weekday</th>\n      <th>market</th>\n    </tr>\n  </thead>\n  <tbody>\n    <tr>\n      <th>0</th>\n      <td>12147973</td>\n      <td>2017-09-05</td>\n      <td>False</td>\n      <td>NaN</td>\n      <td>9</td>\n      <td>36</td>\n      <td>5</td>\n      <td>Tuesday</td>\n      <td>Boston</td>\n    </tr>\n    <tr>\n      <th>1</th>\n      <td>12147973</td>\n      <td>2017-09-04</td>\n      <td>False</td>\n      <td>NaN</td>\n      <td>9</td>\n      <td>36</td>\n      <td>4</td>\n      <td>Monday</td>\n      <td>Boston</td>\n    </tr>\n    <tr>\n      <th>2</th>\n      <td>12147973</td>\n      <td>2017-09-03</td>\n      <td>False</td>\n      <td>NaN</td>\n      <td>9</td>\n      <td>35</td>\n      <td>3</td>\n      <td>Sunday</td>\n      <td>Boston</td>\n    </tr>\n    <tr>\n      <th>3</th>\n      <td>12147973</td>\n      <td>2017-09-02</td>\n      <td>False</td>\n      <td>NaN</td>\n      <td>9</td>\n      <td>35</td>\n      <td>2</td>\n      <td>Saturday</td>\n      <td>Boston</td>\n    </tr>\n    <tr>\n      <th>4</th>\n      <td>12147973</td>\n      <td>2017-09-01</td>\n      <td>False</td>\n      <td>NaN</td>\n      <td>9</td>\n      <td>35</td>\n      <td>1</td>\n      <td>Friday</td>\n      <td>Boston</td>\n    </tr>\n  </tbody>\n</table>\n</div>"
     },
     "execution_count": 90,
     "metadata": {},
     "output_type": "execute_result"
    }
   ],
   "source": [
    "calendar_data.available = (calendar_data.available == 't')\n",
    "calendar_data.head()"
   ],
   "metadata": {
    "collapsed": false,
    "pycharm": {
     "name": "#%%\n"
    }
   }
  },
  {
   "cell_type": "markdown",
   "source": [
    "\n",
    "## Data Modeling\n",
    "\n",
    "We will be using linear regression for both questions 1 and 2.  However, to interpret our results, it will be\n",
    "useful to be able to see which coefficients have the largest weights from an output model."
   ],
   "metadata": {
    "collapsed": false
   }
  },
  {
   "cell_type": "code",
   "execution_count": 91,
   "outputs": [],
   "source": [
    "def perform_regression(data_with_dummies, response_var):\n",
    "    '''\n",
    "    Peforms a regression to predict response_var given the remaining variables.  Returns useful information\n",
    "    about the output\n",
    "    :param data_with_dummies: data to perform regression on\n",
    "    :param response_var: response var of the regression\n",
    "    :return: A tuple consisting of (1) train score (2) test score (3) list of features sorted by absolute value of\n",
    "      coefficient in the regression\n",
    "    '''\n",
    "\n",
    "    X = data_with_dummies.dropna(subset=[response_var], axis=0)\n",
    "    X = X.dropna(how='any', axis=0)\n",
    "    y = X[response_var]\n",
    "    X = X.drop(response_var, axis=1)\n",
    "    model = Ridge(normalize=True)\n",
    "    X_train, X_test, y_train, y_test = train_test_split(X, y, test_size=.3, random_state=42)\n",
    "    model.fit(X_train, y_train)\n",
    "    train_score = model.score(X_train, y_train)\n",
    "    preds = model.predict(X_test)\n",
    "    test_score = r2_score(y_test, preds)\n",
    "\n",
    "    enumerated_coefs = list(enumerate(model.coef_))\n",
    "    enumerated_coefs.sort(key=lambda x: np.abs(x[1]), reverse=True)\n",
    "    sorted_features = map(lambda x: X.columns[x[0]] + ': ' + str(x[1]), enumerated_coefs)\n",
    "    return train_score, test_score, list(sorted_features)"
   ],
   "metadata": {
    "collapsed": false,
    "pycharm": {
     "name": "#%%\n"
    }
   }
  },
  {
   "cell_type": "markdown",
   "source": [
    "### Question 1. What are the most important aspects of insuring a high review score?\n",
    "\n",
    "Let's do this."
   ],
   "metadata": {
    "collapsed": false,
    "pycharm": {
     "name": "#%% md\n"
    }
   }
  },
  {
   "cell_type": "code",
   "execution_count": 92,
   "outputs": [
    {
     "name": "stdout",
     "output_type": "stream",
     "text": [
      "Train score: {} 0.7149919431917389\n",
      "Test score: {} 0.6678941399991878\n",
      "property_type_nan: -3.646091262427992\n",
      "property_type_Entire Floor: 1.7582312788202012\n",
      "review_scores_value: 1.7431024950678267\n",
      "property_type_Guesthouse: 1.633333305686869\n",
      "host_has_profile_pic_t: -1.621038272323776\n",
      "review_scores_cleanliness: 1.5346622916086183\n",
      "review_scores_accuracy: 1.485526026517727\n",
      "property_type_Villa: 1.4114420646389259\n",
      "review_scores_communication: 1.3937196537810335\n",
      "review_scores_checkin: 1.215914841727859\n"
     ]
    }
   ],
   "source": [
    "review_train_score, review_test_score, review_sorted_features = perform_regression(listings_data_with_dummies, 'review_scores_rating')\n",
    "\n",
    "print(\"Train score: {}\", review_train_score)\n",
    "print(\"Test score: {}\", review_test_score)\n",
    "for i in range(10):\n",
    "    print(review_sorted_features[i])"
   ],
   "metadata": {
    "collapsed": false,
    "pycharm": {
     "name": "#%%\n"
    }
   }
  },
  {
   "cell_type": "markdown",
   "source": [
    "### Question 2. What are the most important predictors of a more expensive listing?"
   ],
   "metadata": {
    "collapsed": false,
    "pycharm": {
     "name": "#%% md\n"
    }
   }
  },
  {
   "cell_type": "code",
   "execution_count": 93,
   "outputs": [
    {
     "name": "stdout",
     "output_type": "stream",
     "text": [
      "Train score: {} 0.567013604131031\n",
      "Test score: {} 0.5719825988818827\n",
      "property_type_Dorm: -70.86999722472962\n",
      "property_type_Boat: 47.281301828780705\n",
      "property_type_Guesthouse: 45.83423272519229\n",
      "cancellation_policy_super_strict_30: 43.53832803210235\n",
      "room_type_Shared room: -31.328581621312726\n",
      "room_type_Private room: -30.164206168640614\n",
      "property_type_Villa: 28.576284027936943\n",
      "property_type_Entire Floor: -22.098099163262354\n",
      "property_type_Treehouse: -20.09963977477386\n",
      "host_acceptance_rate: -19.42769193294336\n"
     ]
    }
   ],
   "source": [
    "price_train_score, price_test_score, price_sorted_features = perform_regression(listings_data_with_dummies, 'price')\n",
    "\n",
    "print(\"Train score: {}\", price_train_score)\n",
    "print(\"Test score: {}\", price_test_score)\n",
    "for i in range(10):\n",
    "    print(price_sorted_features[i])"
   ],
   "metadata": {
    "collapsed": false,
    "pycharm": {
     "name": "#%%\n"
    }
   }
  },
  {
   "cell_type": "markdown",
   "source": [
    "### Question 3. What are the most expensive times of the year to rent on AirBnb? Does this differ based on whether the listing is in Seattle or Boston?\n",
    "\n",
    "We will not do any modeling for this question.  We will simply compare the mean times of year for each."
   ],
   "metadata": {
    "collapsed": false,
    "pycharm": {
     "name": "#%% md\n"
    }
   }
  },
  {
   "cell_type": "markdown",
   "source": [
    "## Evaluate The Results\n",
    "\n",
    "### Question 1. What are the most important aspects of insuring a high review score?\n",
    "\n",
    "Let's take another look at the final results:"
   ],
   "metadata": {
    "collapsed": false,
    "pycharm": {
     "name": "#%% md\n"
    }
   }
  },
  {
   "cell_type": "code",
   "execution_count": 94,
   "outputs": [
    {
     "name": "stdout",
     "output_type": "stream",
     "text": [
      "Train score: {} 0.567013604131031\n",
      "Test score: {} 0.5719825988818827\n",
      "property_type_nan: -3.646091262427992\n",
      "property_type_Entire Floor: 1.7582312788202012\n",
      "review_scores_value: 1.7431024950678267\n",
      "property_type_Guesthouse: 1.633333305686869\n",
      "host_has_profile_pic_t: -1.621038272323776\n",
      "review_scores_cleanliness: 1.5346622916086183\n",
      "review_scores_accuracy: 1.485526026517727\n",
      "property_type_Villa: 1.4114420646389259\n",
      "review_scores_communication: 1.3937196537810335\n",
      "review_scores_checkin: 1.215914841727859\n"
     ]
    }
   ],
   "source": [
    "print(\"Train score: {}\", price_train_score)\n",
    "print(\"Test score: {}\", price_test_score)\n",
    "for i in range(10):\n",
    "    print(review_sorted_features[i])"
   ],
   "metadata": {
    "collapsed": false,
    "pycharm": {
     "name": "#%%\n"
    }
   }
  },
  {
   "cell_type": "markdown",
   "source": [
    "Most of the top weights come from property type (interestingly) and review_scores (obviously.  note that just using review\n",
    "scores alone don't perfectly predict the `review_scores_rating` value, so this shows that the overall rating isn't just\n",
    "a sum of the other review score components).\n",
    "\n",
    "Let's boxplot property type with reviews:"
   ],
   "metadata": {
    "collapsed": false
   }
  },
  {
   "cell_type": "code",
   "execution_count": 95,
   "outputs": [
    {
     "data": {
      "text/plain": "<Figure size 576x360 with 1 Axes>",
      "image/png": "[encoded data removed]"
     },
     "metadata": {},
     "output_type": "display_data"
    }
   ],
   "source": [
    "sns.set(rc={'figure.figsize':(8,5)})\n",
    "listings_data['property_type'] = listings_data['property_type'].fillna('Unknown')\n",
    "plot = sns.boxplot(x='property_type', y='review_scores_rating', data=listings_data, showfliers=False)\n",
    "plot.set_xticklabels(plot.get_xticklabels(), rotation=90)\n",
    "plot.figure.savefig(\"property_review.png\", bbox_inches=\"tight\")\n",
    "plt.tight_layout()\n",
    "plt.show()"
   ],
   "metadata": {
    "collapsed": false,
    "pycharm": {
     "name": "#%%\n"
    }
   }
  },
  {
   "cell_type": "code",
   "execution_count": 96,
   "outputs": [
    {
     "data": {
      "text/plain": "<Figure size 576x360 with 1 Axes>",
      "image/png": "[encoded data removed]"
     },
     "metadata": {},
     "output_type": "display_data"
    }
   ],
   "source": [
    "plot = sns.regplot(x='review_scores_value', y='review_scores_rating', data=listings_data, x_jitter=0.05)\n",
    "plot.figure.savefig(\"value_review.png\")"
   ],
   "metadata": {
    "collapsed": false,
    "pycharm": {
     "name": "#%%\n"
    }
   }
  },
  {
   "cell_type": "code",
   "execution_count": 97,
   "outputs": [
    {
     "data": {
      "text/plain": "<Figure size 576x360 with 1 Axes>",
      "image/png": "[encoded data removed]"
     },
     "metadata": {},
     "output_type": "display_data"
    }
   ],
   "source": [
    "plot = sns.regplot(x='review_scores_cleanliness', y='review_scores_rating', data=listings_data, x_jitter=0.05)\n",
    "plot.figure.savefig(\"cleanliness_review.png\")"
   ],
   "metadata": {
    "collapsed": false,
    "pycharm": {
     "name": "#%%\n"
    }
   }
  },
  {
   "cell_type": "code",
   "execution_count": 98,
   "outputs": [
    {
     "data": {
      "text/plain": "<Figure size 576x360 with 1 Axes>",
      "image/png": "[encoded data removed]"
     },
     "metadata": {},
     "output_type": "display_data"
    }
   ],
   "source": [
    "plot = sns.regplot(x='review_scores_accuracy', y='review_scores_rating', data=listings_data, x_jitter=0.05)\n",
    "plot.figure.savefig(\"vaccuracy_review.png\")"
   ],
   "metadata": {
    "collapsed": false,
    "pycharm": {
     "name": "#%%\n"
    }
   }
  },
  {
   "cell_type": "code",
   "execution_count": 99,
   "outputs": [
    {
     "data": {
      "text/plain": "<Figure size 576x360 with 1 Axes>",
      "image/png": "[encoded data removed]"
     },
     "metadata": {},
     "output_type": "display_data"
    }
   ],
   "source": [
    "plot = sns.regplot(x='review_scores_communication', y='review_scores_rating', data=listings_data, x_jitter=0.05)\n",
    "plot.figure.savefig(\"communication_review.png\")"
   ],
   "metadata": {
    "collapsed": false,
    "pycharm": {
     "name": "#%%\n"
    }
   }
  },
  {
   "cell_type": "code",
   "execution_count": 100,
   "outputs": [
    {
     "data": {
      "text/plain": "<Figure size 576x360 with 1 Axes>",
      "image/png": "[encoded data removed]"
     },
     "metadata": {},
     "output_type": "display_data"
    }
   ],
   "source": [
    "plot = sns.regplot(x='review_scores_checkin', y='review_scores_rating', data=listings_data, x_jitter=0.05)\n",
    "plot.figure.savefig(\"checkin_review.png\")"
   ],
   "metadata": {
    "collapsed": false,
    "pycharm": {
     "name": "#%%\n"
    }
   }
  },
  {
   "cell_type": "markdown",
   "source": [
    "These regplots don't look that different from one another.  Perhaps fewer outliers on the right side with `value`,\n",
    "but nonetheless there doesn't seem to be a huge difference among _which_ review component gets you more headway\n",
    "in improving the overall rating.\n",
    "\n",
    "### Question 2. What are the most important predictors of a more expensive listing?"
   ],
   "metadata": {
    "collapsed": false,
    "pycharm": {
     "name": "#%% md\n"
    }
   }
  },
  {
   "cell_type": "code",
   "execution_count": 101,
   "outputs": [
    {
     "name": "stdout",
     "output_type": "stream",
     "text": [
      "Train score: {} 0.567013604131031\n",
      "Test score: {} 0.5719825988818827\n",
      "property_type_Dorm: -70.86999722472962\n",
      "property_type_Boat: 47.281301828780705\n",
      "property_type_Guesthouse: 45.83423272519229\n",
      "cancellation_policy_super_strict_30: 43.53832803210235\n",
      "room_type_Shared room: -31.328581621312726\n",
      "room_type_Private room: -30.164206168640614\n",
      "property_type_Villa: 28.576284027936943\n",
      "property_type_Entire Floor: -22.098099163262354\n",
      "property_type_Treehouse: -20.09963977477386\n",
      "host_acceptance_rate: -19.42769193294336\n"
     ]
    }
   ],
   "source": [
    "print(\"Train score: {}\", price_train_score)\n",
    "print(\"Test score: {}\", price_test_score)\n",
    "for i in range(10):\n",
    "    print(price_sorted_features[i])"
   ],
   "metadata": {
    "collapsed": false,
    "pycharm": {
     "name": "#%%\n"
    }
   }
  },
  {
   "cell_type": "markdown",
   "source": [
    "Most of the top 10 weights here come from the `property_type` categorical variables.  So lets boxplot those, hiding\n",
    " the outliers to make the \"main values\" look more readable.  Dorms and Tents are the least expensive, boats and\n",
    " guesthouses are the most expensive.  Villas are also fairly expensive."
   ],
   "metadata": {
    "collapsed": false,
    "pycharm": {
     "name": "#%% md\n"
    }
   }
  },
  {
   "cell_type": "code",
   "execution_count": 102,
   "outputs": [
    {
     "data": {
      "text/plain": "<Figure size 576x360 with 1 Axes>",
      "image/png": "[encoded data removed]"
     },
     "metadata": {},
     "output_type": "display_data"
    }
   ],
   "source": [
    "sns.set(rc={'figure.figsize':(8,5)})\n",
    "plot = sns.boxplot(x='property_type', y='price', data=listings_data, showfliers=False)\n",
    "plot.set_xticklabels(plot.get_xticklabels(), rotation=90)\n",
    "plot.figure.savefig(\"price.png\", bbox_inches=\"tight\")\n",
    "plt.tight_layout()\n",
    "plt.show()"
   ],
   "metadata": {
    "collapsed": false,
    "pycharm": {
     "name": "#%%\n"
    }
   }
  },
  {
   "cell_type": "markdown",
   "source": [
    "Again, the test score was middling but not outright terrible, at around .57.\n",
    "\n",
    "By far the cheapest proeprties were dorms, while boats and guesthouses were indicators of more expensive properties.\n",
    "So were super strict cancellation policies, apparently.  Also, the higher the acceptance rate, the lower the price\n",
    "tended to be (interesting).\n",
    "\n",
    "### Question 3: What are the most expensive times of the year to rent on AirBnb? Does this differ based on whether the listing is in Seattle or Boston?"
   ],
   "metadata": {
    "collapsed": false,
    "pycharm": {
     "name": "#%% md\n"
    }
   }
  },
  {
   "cell_type": "code",
   "execution_count": 103,
   "outputs": [
    {
     "data": {
      "text/plain": "<Figure size 576x360 with 1 Axes>",
      "image/png": "[encoded data removed]"
     },
     "metadata": {},
     "output_type": "display_data"
    }
   ],
   "source": [
    "seattle_calendar_data = calendar_data[calendar_data['market'] == 'Seattle']\n",
    "boston_calendar_data = calendar_data[calendar_data['market'] == 'Boston']\n",
    "\n",
    "seattle_by_month = seattle_calendar_data.groupby(by=['month'], as_index=False).mean()\n",
    "# boston_by_month.plot.bar(xlabel='Month', ylabel='Average price')\n",
    "plot = sns.barplot(x='month', y='price', data=seattle_by_month)\n",
    "plot.figure.savefig('seattle.png')\n",
    "plt.show()"
   ],
   "metadata": {
    "collapsed": false,
    "pycharm": {
     "name": "#%%\n"
    }
   }
  },
  {
   "cell_type": "code",
   "execution_count": 104,
   "outputs": [
    {
     "data": {
      "text/plain": "<Figure size 576x360 with 1 Axes>",
      "image/png": "[encoded data removed]"
     },
     "metadata": {},
     "output_type": "display_data"
    }
   ],
   "source": [
    "boston_by_month = boston_calendar_data.groupby(by=['month'], as_index=False).mean()\n",
    "# boston_by_month.plot.bar(xlabel='Month', ylabel='Average price')\n",
    "plot = sns.barplot(x='month', y='price', data=boston_by_month)\n",
    "plot.figure.savefig('boston.png')\n",
    "plt.show()"
   ],
   "metadata": {
    "collapsed": false,
    "pycharm": {
     "name": "#%%\n"
    }
   }
  },
  {
   "cell_type": "markdown",
   "source": [
    "From these barcharts, we can see that the mean prices for airbnb listings in Seattle is highest in July/August.\n",
    "But in Boston the peak season is September/October.  In both marktes, January and February seem to be the cheapest."
   ],
   "metadata": {
    "collapsed": false,
    "pycharm": {
     "name": "#%% md\n"
    }
   }
  }
 ],
 "metadata": {
  "kernelspec": {
   "display_name": "Python 3",
   "language": "python",
   "name": "python3"
  },
  "language_info": {
   "codemirror_mode": {
    "name": "ipython",
    "version": 3
   },
   "file_extension": ".py",
   "mimetype": "text/x-python",
   "name": "python",
   "nbconvert_exporter": "python",
   "pygments_lexer": "ipython3",
   "version": "3.8.5"
  }
 },
 "nbformat": 4,
 "nbformat_minor": 4
}